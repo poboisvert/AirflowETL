{
 "cells": [
  {
   "cell_type": "markdown",
   "metadata": {},
   "source": [
    "### Dependencies"
   ]
  },
  {
   "cell_type": "code",
   "execution_count": 5,
   "metadata": {},
   "outputs": [],
   "source": [
    "#!pip install tensorflow"
   ]
  },
  {
   "cell_type": "code",
   "execution_count": 6,
   "metadata": {},
   "outputs": [],
   "source": [
    "import pandas as pd\n",
    "import numpy as np\n",
    "import sys\n",
    "import warnings\n",
    "\n",
    "# Regex\n",
    "import re\n",
    "\n",
    "# NLTK\n",
    "import nltk\n",
    "from nltk.sentiment.vader import SentimentIntensityAnalyzer\n",
    "from nltk.tokenize import RegexpTokenizer\n",
    "from nltk.corpus import stopwords\n",
    "\n",
    "# TextBlob\n",
    "from textblob import TextBlob\n",
    "\n",
    "#import tensorflow as tf\n",
    "#from tensorflow.keras import datasets, preprocessing, models, layers,regularizers\n",
    "#print(tf.__version__)\n",
    "\n",
    "if not sys.warnoptions:\n",
    "    warnings.simplefilter(\"ignore\")\n"
   ]
  },
  {
   "cell_type": "code",
   "execution_count": 7,
   "metadata": {},
   "outputs": [],
   "source": [
    "# Import"
   ]
  },
  {
   "cell_type": "code",
   "execution_count": 8,
   "metadata": {},
   "outputs": [
    {
     "data": {
      "text/html": [
       "<div>\n",
       "<style scoped>\n",
       "    .dataframe tbody tr th:only-of-type {\n",
       "        vertical-align: middle;\n",
       "    }\n",
       "\n",
       "    .dataframe tbody tr th {\n",
       "        vertical-align: top;\n",
       "    }\n",
       "\n",
       "    .dataframe thead th {\n",
       "        text-align: right;\n",
       "    }\n",
       "</style>\n",
       "<table border=\"1\" class=\"dataframe\">\n",
       "  <thead>\n",
       "    <tr style=\"text-align: right;\">\n",
       "      <th></th>\n",
       "      <th>Unnamed: 0</th>\n",
       "      <th>song_id</th>\n",
       "      <th>song_name</th>\n",
       "      <th>date_time_played</th>\n",
       "      <th>lyrics</th>\n",
       "    </tr>\n",
       "  </thead>\n",
       "  <tbody>\n",
       "    <tr>\n",
       "      <th>0</th>\n",
       "      <td>0</td>\n",
       "      <td>1zZEly0sLmyDm75c1pAqYf</td>\n",
       "      <td>Lightskin Lil Wayne</td>\n",
       "      <td>2022-02-24T01:46:41.849Z</td>\n",
       "      <td>Intro: Lil Wayne\\nFuck you gon' stand next to ...</td>\n",
       "    </tr>\n",
       "    <tr>\n",
       "      <th>1</th>\n",
       "      <td>1</td>\n",
       "      <td>1DIXPcTDzTj8ZMHt3PDt8p</td>\n",
       "      <td>Gangsta's Paradise</td>\n",
       "      <td>2022-02-24T01:44:07.533Z</td>\n",
       "      <td>Recording Info\\n\\nVerse 1: Coolio\\nAs I walk t...</td>\n",
       "    </tr>\n",
       "    <tr>\n",
       "      <th>2</th>\n",
       "      <td>2</td>\n",
       "      <td>4GhHrgsaiQsuMQCHTGa87C</td>\n",
       "      <td>Badlands</td>\n",
       "      <td>2022-02-24T01:29:39.950Z</td>\n",
       "      <td>Verse 1\\nI can never tell what you want from m...</td>\n",
       "    </tr>\n",
       "    <tr>\n",
       "      <th>3</th>\n",
       "      <td>3</td>\n",
       "      <td>4efLhkYJJf2R6WhbwpFi85</td>\n",
       "      <td>Black Panther (feat. Rafal)</td>\n",
       "      <td>2022-02-24T01:28:15.792Z</td>\n",
       "      <td>1 куплет:\\nТвое тело просто секс, секс, секс, ...</td>\n",
       "    </tr>\n",
       "    <tr>\n",
       "      <th>4</th>\n",
       "      <td>4</td>\n",
       "      <td>4wEbikMfcSFAukCbbL06si</td>\n",
       "      <td>No Vaseline</td>\n",
       "      <td>2022-02-24T01:24:32.475Z</td>\n",
       "      <td>Produced by Sir Jinx\\n\\nIntro\\nDamn\\nForgot to...</td>\n",
       "    </tr>\n",
       "  </tbody>\n",
       "</table>\n",
       "</div>"
      ],
      "text/plain": [
       "   Unnamed: 0                 song_id                    song_name  \\\n",
       "0           0  1zZEly0sLmyDm75c1pAqYf          Lightskin Lil Wayne   \n",
       "1           1  1DIXPcTDzTj8ZMHt3PDt8p           Gangsta's Paradise   \n",
       "2           2  4GhHrgsaiQsuMQCHTGa87C                     Badlands   \n",
       "3           3  4efLhkYJJf2R6WhbwpFi85  Black Panther (feat. Rafal)   \n",
       "4           4  4wEbikMfcSFAukCbbL06si                  No Vaseline   \n",
       "\n",
       "           date_time_played                                             lyrics  \n",
       "0  2022-02-24T01:46:41.849Z  Intro: Lil Wayne\\nFuck you gon' stand next to ...  \n",
       "1  2022-02-24T01:44:07.533Z  Recording Info\\n\\nVerse 1: Coolio\\nAs I walk t...  \n",
       "2  2022-02-24T01:29:39.950Z  Verse 1\\nI can never tell what you want from m...  \n",
       "3  2022-02-24T01:28:15.792Z  1 куплет:\\nТвое тело просто секс, секс, секс, ...  \n",
       "4  2022-02-24T01:24:32.475Z  Produced by Sir Jinx\\n\\nIntro\\nDamn\\nForgot to...  "
      ]
     },
     "execution_count": 8,
     "metadata": {},
     "output_type": "execute_result"
    }
   ],
   "source": [
    "music_df = pd.read_csv(\"../etl/data/lyrics_etl.csv\")\n",
    "music_df.head()"
   ]
  },
  {
   "cell_type": "markdown",
   "metadata": {},
   "source": [
    "### Regex Cleaning"
   ]
  },
  {
   "cell_type": "code",
   "execution_count": 9,
   "metadata": {},
   "outputs": [],
   "source": [
    "def html_cleaner (string):\n",
    "    html_cleaner = re.sub(r'\\n', \" \", string)\n",
    "    return html_cleaner"
   ]
  },
  {
   "cell_type": "code",
   "execution_count": 10,
   "metadata": {},
   "outputs": [
    {
     "data": {
      "text/html": [
       "<div>\n",
       "<style scoped>\n",
       "    .dataframe tbody tr th:only-of-type {\n",
       "        vertical-align: middle;\n",
       "    }\n",
       "\n",
       "    .dataframe tbody tr th {\n",
       "        vertical-align: top;\n",
       "    }\n",
       "\n",
       "    .dataframe thead th {\n",
       "        text-align: right;\n",
       "    }\n",
       "</style>\n",
       "<table border=\"1\" class=\"dataframe\">\n",
       "  <thead>\n",
       "    <tr style=\"text-align: right;\">\n",
       "      <th></th>\n",
       "      <th>Unnamed: 0</th>\n",
       "      <th>song_id</th>\n",
       "      <th>song_name</th>\n",
       "      <th>date_time_played</th>\n",
       "      <th>lyrics</th>\n",
       "    </tr>\n",
       "  </thead>\n",
       "  <tbody>\n",
       "    <tr>\n",
       "      <th>0</th>\n",
       "      <td>0</td>\n",
       "      <td>1zZEly0sLmyDm75c1pAqYf</td>\n",
       "      <td>Lightskin Lil Wayne</td>\n",
       "      <td>2022-02-24T01:46:41.849Z</td>\n",
       "      <td>Intro: Lil Wayne Fuck you gon' stand next to a...</td>\n",
       "    </tr>\n",
       "    <tr>\n",
       "      <th>1</th>\n",
       "      <td>1</td>\n",
       "      <td>1DIXPcTDzTj8ZMHt3PDt8p</td>\n",
       "      <td>Gangsta's Paradise</td>\n",
       "      <td>2022-02-24T01:44:07.533Z</td>\n",
       "      <td>Recording Info  Verse 1: Coolio As I walk thro...</td>\n",
       "    </tr>\n",
       "    <tr>\n",
       "      <th>2</th>\n",
       "      <td>2</td>\n",
       "      <td>4GhHrgsaiQsuMQCHTGa87C</td>\n",
       "      <td>Badlands</td>\n",
       "      <td>2022-02-24T01:29:39.950Z</td>\n",
       "      <td>Verse 1 I can never tell what you want from me...</td>\n",
       "    </tr>\n",
       "    <tr>\n",
       "      <th>3</th>\n",
       "      <td>3</td>\n",
       "      <td>4efLhkYJJf2R6WhbwpFi85</td>\n",
       "      <td>Black Panther (feat. Rafal)</td>\n",
       "      <td>2022-02-24T01:28:15.792Z</td>\n",
       "      <td>1 куплет: Твое тело просто секс, секс, секс, с...</td>\n",
       "    </tr>\n",
       "    <tr>\n",
       "      <th>4</th>\n",
       "      <td>4</td>\n",
       "      <td>4wEbikMfcSFAukCbbL06si</td>\n",
       "      <td>No Vaseline</td>\n",
       "      <td>2022-02-24T01:24:32.475Z</td>\n",
       "      <td>Produced by Sir Jinx  Intro Damn Forgot to do ...</td>\n",
       "    </tr>\n",
       "  </tbody>\n",
       "</table>\n",
       "</div>"
      ],
      "text/plain": [
       "   Unnamed: 0                 song_id                    song_name  \\\n",
       "0           0  1zZEly0sLmyDm75c1pAqYf          Lightskin Lil Wayne   \n",
       "1           1  1DIXPcTDzTj8ZMHt3PDt8p           Gangsta's Paradise   \n",
       "2           2  4GhHrgsaiQsuMQCHTGa87C                     Badlands   \n",
       "3           3  4efLhkYJJf2R6WhbwpFi85  Black Panther (feat. Rafal)   \n",
       "4           4  4wEbikMfcSFAukCbbL06si                  No Vaseline   \n",
       "\n",
       "           date_time_played                                             lyrics  \n",
       "0  2022-02-24T01:46:41.849Z  Intro: Lil Wayne Fuck you gon' stand next to a...  \n",
       "1  2022-02-24T01:44:07.533Z  Recording Info  Verse 1: Coolio As I walk thro...  \n",
       "2  2022-02-24T01:29:39.950Z  Verse 1 I can never tell what you want from me...  \n",
       "3  2022-02-24T01:28:15.792Z  1 куплет: Твое тело просто секс, секс, секс, с...  \n",
       "4  2022-02-24T01:24:32.475Z  Produced by Sir Jinx  Intro Damn Forgot to do ...  "
      ]
     },
     "execution_count": 10,
     "metadata": {},
     "output_type": "execute_result"
    }
   ],
   "source": [
    "music_df['lyrics'] = music_df.lyrics.apply(html_cleaner)\n",
    "music_df.head()"
   ]
  },
  {
   "cell_type": "markdown",
   "metadata": {},
   "source": [
    "### Tokenization"
   ]
  },
  {
   "cell_type": "code",
   "execution_count": 11,
   "metadata": {},
   "outputs": [
    {
     "name": "stderr",
     "output_type": "stream",
     "text": [
      "[nltk_data] Downloading package punkt to /Users/pierre-\n",
      "[nltk_data]     macmini/nltk_data...\n",
      "[nltk_data]   Package punkt is already up-to-date!\n"
     ]
    },
    {
     "data": {
      "text/plain": [
       "True"
      ]
     },
     "execution_count": 11,
     "metadata": {},
     "output_type": "execute_result"
    }
   ],
   "source": [
    "# Donwload tokenizer from NLTK\n",
    "nltk.download('punkt')"
   ]
  },
  {
   "cell_type": "code",
   "execution_count": 12,
   "metadata": {},
   "outputs": [],
   "source": [
    "def tokenizer (string):\n",
    "    tokenizer = RegexpTokenizer(r'\\w+')\n",
    "    tokens = tokenizer.tokenize(string)\n",
    "    return tokens"
   ]
  },
  {
   "cell_type": "code",
   "execution_count": 13,
   "metadata": {},
   "outputs": [
    {
     "data": {
      "text/html": [
       "<div>\n",
       "<style scoped>\n",
       "    .dataframe tbody tr th:only-of-type {\n",
       "        vertical-align: middle;\n",
       "    }\n",
       "\n",
       "    .dataframe tbody tr th {\n",
       "        vertical-align: top;\n",
       "    }\n",
       "\n",
       "    .dataframe thead th {\n",
       "        text-align: right;\n",
       "    }\n",
       "</style>\n",
       "<table border=\"1\" class=\"dataframe\">\n",
       "  <thead>\n",
       "    <tr style=\"text-align: right;\">\n",
       "      <th></th>\n",
       "      <th>Unnamed: 0</th>\n",
       "      <th>song_id</th>\n",
       "      <th>song_name</th>\n",
       "      <th>date_time_played</th>\n",
       "      <th>lyrics</th>\n",
       "    </tr>\n",
       "  </thead>\n",
       "  <tbody>\n",
       "    <tr>\n",
       "      <th>0</th>\n",
       "      <td>0</td>\n",
       "      <td>1zZEly0sLmyDm75c1pAqYf</td>\n",
       "      <td>Lightskin Lil Wayne</td>\n",
       "      <td>2022-02-24T01:46:41.849Z</td>\n",
       "      <td>[Intro, Lil, Wayne, Fuck, you, gon, stand, nex...</td>\n",
       "    </tr>\n",
       "    <tr>\n",
       "      <th>1</th>\n",
       "      <td>1</td>\n",
       "      <td>1DIXPcTDzTj8ZMHt3PDt8p</td>\n",
       "      <td>Gangsta's Paradise</td>\n",
       "      <td>2022-02-24T01:44:07.533Z</td>\n",
       "      <td>[Recording, Info, Verse, 1, Coolio, As, I, wal...</td>\n",
       "    </tr>\n",
       "    <tr>\n",
       "      <th>2</th>\n",
       "      <td>2</td>\n",
       "      <td>4GhHrgsaiQsuMQCHTGa87C</td>\n",
       "      <td>Badlands</td>\n",
       "      <td>2022-02-24T01:29:39.950Z</td>\n",
       "      <td>[Verse, 1, I, can, never, tell, what, you, wan...</td>\n",
       "    </tr>\n",
       "    <tr>\n",
       "      <th>3</th>\n",
       "      <td>3</td>\n",
       "      <td>4efLhkYJJf2R6WhbwpFi85</td>\n",
       "      <td>Black Panther (feat. Rafal)</td>\n",
       "      <td>2022-02-24T01:28:15.792Z</td>\n",
       "      <td>[1, куплет, Твое, тело, просто, секс, секс, се...</td>\n",
       "    </tr>\n",
       "    <tr>\n",
       "      <th>4</th>\n",
       "      <td>4</td>\n",
       "      <td>4wEbikMfcSFAukCbbL06si</td>\n",
       "      <td>No Vaseline</td>\n",
       "      <td>2022-02-24T01:24:32.475Z</td>\n",
       "      <td>[Produced, by, Sir, Jinx, Intro, Damn, Forgot,...</td>\n",
       "    </tr>\n",
       "  </tbody>\n",
       "</table>\n",
       "</div>"
      ],
      "text/plain": [
       "   Unnamed: 0                 song_id                    song_name  \\\n",
       "0           0  1zZEly0sLmyDm75c1pAqYf          Lightskin Lil Wayne   \n",
       "1           1  1DIXPcTDzTj8ZMHt3PDt8p           Gangsta's Paradise   \n",
       "2           2  4GhHrgsaiQsuMQCHTGa87C                     Badlands   \n",
       "3           3  4efLhkYJJf2R6WhbwpFi85  Black Panther (feat. Rafal)   \n",
       "4           4  4wEbikMfcSFAukCbbL06si                  No Vaseline   \n",
       "\n",
       "           date_time_played                                             lyrics  \n",
       "0  2022-02-24T01:46:41.849Z  [Intro, Lil, Wayne, Fuck, you, gon, stand, nex...  \n",
       "1  2022-02-24T01:44:07.533Z  [Recording, Info, Verse, 1, Coolio, As, I, wal...  \n",
       "2  2022-02-24T01:29:39.950Z  [Verse, 1, I, can, never, tell, what, you, wan...  \n",
       "3  2022-02-24T01:28:15.792Z  [1, куплет, Твое, тело, просто, секс, секс, се...  \n",
       "4  2022-02-24T01:24:32.475Z  [Produced, by, Sir, Jinx, Intro, Damn, Forgot,...  "
      ]
     },
     "execution_count": 13,
     "metadata": {},
     "output_type": "execute_result"
    }
   ],
   "source": [
    "music_df['lyrics'] = music_df['lyrics'].apply(tokenizer)\n",
    "music_df.head()"
   ]
  },
  {
   "cell_type": "code",
   "execution_count": 14,
   "metadata": {},
   "outputs": [
    {
     "data": {
      "text/html": [
       "<div>\n",
       "<style scoped>\n",
       "    .dataframe tbody tr th:only-of-type {\n",
       "        vertical-align: middle;\n",
       "    }\n",
       "\n",
       "    .dataframe tbody tr th {\n",
       "        vertical-align: top;\n",
       "    }\n",
       "\n",
       "    .dataframe thead th {\n",
       "        text-align: right;\n",
       "    }\n",
       "</style>\n",
       "<table border=\"1\" class=\"dataframe\">\n",
       "  <thead>\n",
       "    <tr style=\"text-align: right;\">\n",
       "      <th></th>\n",
       "      <th>Unnamed: 0</th>\n",
       "      <th>song_id</th>\n",
       "      <th>song_name</th>\n",
       "      <th>date_time_played</th>\n",
       "      <th>lyrics</th>\n",
       "    </tr>\n",
       "  </thead>\n",
       "  <tbody>\n",
       "    <tr>\n",
       "      <th>0</th>\n",
       "      <td>0</td>\n",
       "      <td>1zZEly0sLmyDm75c1pAqYf</td>\n",
       "      <td>Lightskin Lil Wayne</td>\n",
       "      <td>2022-02-24T01:46:41.849Z</td>\n",
       "      <td>Intro Lil Wayne Fuck you gon stand next to a n...</td>\n",
       "    </tr>\n",
       "    <tr>\n",
       "      <th>1</th>\n",
       "      <td>1</td>\n",
       "      <td>1DIXPcTDzTj8ZMHt3PDt8p</td>\n",
       "      <td>Gangsta's Paradise</td>\n",
       "      <td>2022-02-24T01:44:07.533Z</td>\n",
       "      <td>Recording Info Verse 1 Coolio As I walk throug...</td>\n",
       "    </tr>\n",
       "    <tr>\n",
       "      <th>2</th>\n",
       "      <td>2</td>\n",
       "      <td>4GhHrgsaiQsuMQCHTGa87C</td>\n",
       "      <td>Badlands</td>\n",
       "      <td>2022-02-24T01:29:39.950Z</td>\n",
       "      <td>Verse 1 I can never tell what you want from me...</td>\n",
       "    </tr>\n",
       "    <tr>\n",
       "      <th>3</th>\n",
       "      <td>3</td>\n",
       "      <td>4efLhkYJJf2R6WhbwpFi85</td>\n",
       "      <td>Black Panther (feat. Rafal)</td>\n",
       "      <td>2022-02-24T01:28:15.792Z</td>\n",
       "      <td>1 куплет Твое тело просто секс секс секс секс ...</td>\n",
       "    </tr>\n",
       "    <tr>\n",
       "      <th>4</th>\n",
       "      <td>4</td>\n",
       "      <td>4wEbikMfcSFAukCbbL06si</td>\n",
       "      <td>No Vaseline</td>\n",
       "      <td>2022-02-24T01:24:32.475Z</td>\n",
       "      <td>Produced by Sir Jinx Intro Damn Forgot to do s...</td>\n",
       "    </tr>\n",
       "  </tbody>\n",
       "</table>\n",
       "</div>"
      ],
      "text/plain": [
       "   Unnamed: 0                 song_id                    song_name  \\\n",
       "0           0  1zZEly0sLmyDm75c1pAqYf          Lightskin Lil Wayne   \n",
       "1           1  1DIXPcTDzTj8ZMHt3PDt8p           Gangsta's Paradise   \n",
       "2           2  4GhHrgsaiQsuMQCHTGa87C                     Badlands   \n",
       "3           3  4efLhkYJJf2R6WhbwpFi85  Black Panther (feat. Rafal)   \n",
       "4           4  4wEbikMfcSFAukCbbL06si                  No Vaseline   \n",
       "\n",
       "           date_time_played                                             lyrics  \n",
       "0  2022-02-24T01:46:41.849Z  Intro Lil Wayne Fuck you gon stand next to a n...  \n",
       "1  2022-02-24T01:44:07.533Z  Recording Info Verse 1 Coolio As I walk throug...  \n",
       "2  2022-02-24T01:29:39.950Z  Verse 1 I can never tell what you want from me...  \n",
       "3  2022-02-24T01:28:15.792Z  1 куплет Твое тело просто секс секс секс секс ...  \n",
       "4  2022-02-24T01:24:32.475Z  Produced by Sir Jinx Intro Damn Forgot to do s...  "
      ]
     },
     "execution_count": 14,
     "metadata": {},
     "output_type": "execute_result"
    }
   ],
   "source": [
    "# Remove comma\n",
    "music_df['lyrics'] = music_df['lyrics'].apply(lambda x: \" \".join(x))\n",
    "music_df.head()"
   ]
  },
  {
   "cell_type": "markdown",
   "metadata": {},
   "source": [
    "### Stop Words"
   ]
  },
  {
   "cell_type": "code",
   "execution_count": 15,
   "metadata": {},
   "outputs": [
    {
     "name": "stderr",
     "output_type": "stream",
     "text": [
      "[nltk_data] Downloading package stopwords to /Users/pierre-\n",
      "[nltk_data]     macmini/nltk_data...\n",
      "[nltk_data]   Package stopwords is already up-to-date!\n"
     ]
    },
    {
     "data": {
      "text/plain": [
       "True"
      ]
     },
     "execution_count": 15,
     "metadata": {},
     "output_type": "execute_result"
    }
   ],
   "source": [
    "nltk.download('stopwords') #stopwords"
   ]
  },
  {
   "cell_type": "code",
   "execution_count": 16,
   "metadata": {},
   "outputs": [
    {
     "name": "stdout",
     "output_type": "stream",
     "text": [
      "{'yourselves', 'won', 'll', 'again', \"mustn't\", 'the', 'this', 'hasn', 'ours', 'had', 'while', 'ma', 'was', 'both', \"it's\", 'which', 'above', 'their', 'own', 'theirs', 'i', \"she's\", 'so', 'having', 'o', 'or', 'once', 'such', 'into', 'didn', \"didn't\", 'needn', 'what', \"mightn't\", \"shouldn't\", 'ourselves', \"shan't\", 'you', 'your', 'how', 'did', 'most', 'y', \"wouldn't\", 'these', 'for', 'mustn', 'no', 'am', 'mightn', 'shan', 'haven', 'now', 'because', \"that'll\", 'a', 'off', \"needn't\", 'does', 't', 'are', 'some', 'shouldn', 'have', 's', 'been', 'we', \"you'd\", 'at', 'through', 'yourself', 'were', 'wouldn', 'between', 'and', 'aren', 'hers', 'too', 'until', 'them', 'further', 'an', 'he', 'than', \"haven't\", \"weren't\", 'if', 'she', 'don', 'doesn', 'then', 'more', 'those', 'has', 'all', \"you've\", 'our', \"you'll\", 'from', 'itself', \"hadn't\", 'over', 'but', 'wasn', 'whom', 'nor', 'here', 'themselves', 'they', 'when', 'myself', 'in', \"won't\", 'do', 'after', 'me', 'herself', 'who', \"aren't\", 'couldn', 'can', 'that', 'd', 'ain', 'just', \"couldn't\", 'as', 'there', 'below', \"wasn't\", 'doing', 've', 'out', 'yours', 'is', 'under', 'during', 'm', 'against', 'should', 'its', 'weren', 'not', 'isn', \"isn't\", 'of', 'down', \"you're\", 'to', 'very', 're', 'it', 'be', \"doesn't\", 'my', 'by', 'being', 'other', \"hasn't\", 'him', 'hadn', 'why', 'any', \"should've\", 'about', 'her', 'where', 'same', 'on', 'with', 'before', 'himself', 'up', 'his', 'each', \"don't\", 'few', 'only', 'will'}\n"
     ]
    }
   ],
   "source": [
    "stop_words = set(stopwords.words('english'))\n",
    "print(stop_words)"
   ]
  },
  {
   "cell_type": "code",
   "execution_count": 17,
   "metadata": {},
   "outputs": [],
   "source": [
    "music_df.lyrics = music_df.lyrics.apply(lambda x: x.split(\" \"))"
   ]
  },
  {
   "cell_type": "code",
   "execution_count": 18,
   "metadata": {},
   "outputs": [],
   "source": [
    "def stop_words (data):\n",
    "    stop_words = set(stopwords.words('english'))\n",
    "    stop_words_list = []\n",
    "    for string in data:\n",
    "        if string not in stop_words:\n",
    "            stop_words_list.append(string)\n",
    "    return \" \".join(stop_words_list)"
   ]
  },
  {
   "cell_type": "code",
   "execution_count": 19,
   "metadata": {},
   "outputs": [
    {
     "data": {
      "text/html": [
       "<div>\n",
       "<style scoped>\n",
       "    .dataframe tbody tr th:only-of-type {\n",
       "        vertical-align: middle;\n",
       "    }\n",
       "\n",
       "    .dataframe tbody tr th {\n",
       "        vertical-align: top;\n",
       "    }\n",
       "\n",
       "    .dataframe thead th {\n",
       "        text-align: right;\n",
       "    }\n",
       "</style>\n",
       "<table border=\"1\" class=\"dataframe\">\n",
       "  <thead>\n",
       "    <tr style=\"text-align: right;\">\n",
       "      <th></th>\n",
       "      <th>Unnamed: 0</th>\n",
       "      <th>song_id</th>\n",
       "      <th>song_name</th>\n",
       "      <th>date_time_played</th>\n",
       "      <th>lyrics</th>\n",
       "    </tr>\n",
       "  </thead>\n",
       "  <tbody>\n",
       "    <tr>\n",
       "      <th>0</th>\n",
       "      <td>0</td>\n",
       "      <td>1zZEly0sLmyDm75c1pAqYf</td>\n",
       "      <td>Lightskin Lil Wayne</td>\n",
       "      <td>2022-02-24T01:46:41.849Z</td>\n",
       "      <td>Intro Lil Wayne Fuck gon stand next nigga like...</td>\n",
       "    </tr>\n",
       "    <tr>\n",
       "      <th>1</th>\n",
       "      <td>1</td>\n",
       "      <td>1DIXPcTDzTj8ZMHt3PDt8p</td>\n",
       "      <td>Gangsta's Paradise</td>\n",
       "      <td>2022-02-24T01:44:07.533Z</td>\n",
       "      <td>Recording Info Verse 1 Coolio As I walk valley...</td>\n",
       "    </tr>\n",
       "    <tr>\n",
       "      <th>2</th>\n",
       "      <td>2</td>\n",
       "      <td>4GhHrgsaiQsuMQCHTGa87C</td>\n",
       "      <td>Badlands</td>\n",
       "      <td>2022-02-24T01:29:39.950Z</td>\n",
       "      <td>Verse 1 I never tell want Seems like always go...</td>\n",
       "    </tr>\n",
       "    <tr>\n",
       "      <th>3</th>\n",
       "      <td>3</td>\n",
       "      <td>4efLhkYJJf2R6WhbwpFi85</td>\n",
       "      <td>Black Panther (feat. Rafal)</td>\n",
       "      <td>2022-02-24T01:28:15.792Z</td>\n",
       "      <td>1 куплет Твое тело просто секс секс секс секс ...</td>\n",
       "    </tr>\n",
       "    <tr>\n",
       "      <th>4</th>\n",
       "      <td>4</td>\n",
       "      <td>4wEbikMfcSFAukCbbL06si</td>\n",
       "      <td>No Vaseline</td>\n",
       "      <td>2022-02-24T01:24:32.475Z</td>\n",
       "      <td>Produced Sir Jinx Intro Damn Forgot somethin l...</td>\n",
       "    </tr>\n",
       "  </tbody>\n",
       "</table>\n",
       "</div>"
      ],
      "text/plain": [
       "   Unnamed: 0                 song_id                    song_name  \\\n",
       "0           0  1zZEly0sLmyDm75c1pAqYf          Lightskin Lil Wayne   \n",
       "1           1  1DIXPcTDzTj8ZMHt3PDt8p           Gangsta's Paradise   \n",
       "2           2  4GhHrgsaiQsuMQCHTGa87C                     Badlands   \n",
       "3           3  4efLhkYJJf2R6WhbwpFi85  Black Panther (feat. Rafal)   \n",
       "4           4  4wEbikMfcSFAukCbbL06si                  No Vaseline   \n",
       "\n",
       "           date_time_played                                             lyrics  \n",
       "0  2022-02-24T01:46:41.849Z  Intro Lil Wayne Fuck gon stand next nigga like...  \n",
       "1  2022-02-24T01:44:07.533Z  Recording Info Verse 1 Coolio As I walk valley...  \n",
       "2  2022-02-24T01:29:39.950Z  Verse 1 I never tell want Seems like always go...  \n",
       "3  2022-02-24T01:28:15.792Z  1 куплет Твое тело просто секс секс секс секс ...  \n",
       "4  2022-02-24T01:24:32.475Z  Produced Sir Jinx Intro Damn Forgot somethin l...  "
      ]
     },
     "execution_count": 19,
     "metadata": {},
     "output_type": "execute_result"
    }
   ],
   "source": [
    "music_df.lyrics = music_df.lyrics.apply(stop_words)\n",
    "music_df.head()"
   ]
  },
  {
   "cell_type": "markdown",
   "metadata": {},
   "source": [
    "### Sentiment Analysis"
   ]
  },
  {
   "cell_type": "code",
   "execution_count": 20,
   "metadata": {},
   "outputs": [
    {
     "data": {
      "text/plain": [
       "Sentiment(polarity=0.5, subjectivity=0.6)"
      ]
     },
     "execution_count": 20,
     "metadata": {},
     "output_type": "execute_result"
    }
   ],
   "source": [
    "my_test = \"I love my wife\"\n",
    "blob = TextBlob(my_test)\n",
    "blob.sentiment"
   ]
  },
  {
   "cell_type": "code",
   "execution_count": 21,
   "metadata": {},
   "outputs": [
    {
     "name": "stderr",
     "output_type": "stream",
     "text": [
      "[nltk_data] Downloading package vader_lexicon to /Users/pierre-\n",
      "[nltk_data]     macmini/nltk_data...\n",
      "[nltk_data]   Package vader_lexicon is already up-to-date!\n"
     ]
    },
    {
     "data": {
      "text/plain": [
       "True"
      ]
     },
     "execution_count": 21,
     "metadata": {},
     "output_type": "execute_result"
    }
   ],
   "source": [
    "nltk.download('vader_lexicon')"
   ]
  },
  {
   "cell_type": "code",
   "execution_count": 22,
   "metadata": {},
   "outputs": [
    {
     "data": {
      "text/plain": [
       "{'neg': 0.0, 'neu': 0.323, 'pos': 0.677, 'compound': 0.6369}"
      ]
     },
     "execution_count": 22,
     "metadata": {},
     "output_type": "execute_result"
    }
   ],
   "source": [
    "intAnalyser = SentimentIntensityAnalyzer()\n",
    "polarity = intAnalyser.polarity_scores(my_test)\n",
    "polarity"
   ]
  },
  {
   "cell_type": "code",
   "execution_count": 23,
   "metadata": {},
   "outputs": [],
   "source": [
    "def sentimentScore(sentence):\n",
    "    sia = SentimentIntensityAnalyzer()\n",
    "    polarity = sia.polarity_scores(sentence)\n",
    "    pol = polarity['compound']\n",
    "    return pol"
   ]
  },
  {
   "cell_type": "code",
   "execution_count": 24,
   "metadata": {},
   "outputs": [
    {
     "data": {
      "text/html": [
       "<div>\n",
       "<style scoped>\n",
       "    .dataframe tbody tr th:only-of-type {\n",
       "        vertical-align: middle;\n",
       "    }\n",
       "\n",
       "    .dataframe tbody tr th {\n",
       "        vertical-align: top;\n",
       "    }\n",
       "\n",
       "    .dataframe thead th {\n",
       "        text-align: right;\n",
       "    }\n",
       "</style>\n",
       "<table border=\"1\" class=\"dataframe\">\n",
       "  <thead>\n",
       "    <tr style=\"text-align: right;\">\n",
       "      <th></th>\n",
       "      <th>Unnamed: 0</th>\n",
       "      <th>song_id</th>\n",
       "      <th>song_name</th>\n",
       "      <th>date_time_played</th>\n",
       "      <th>lyrics</th>\n",
       "      <th>sentiment_compound</th>\n",
       "    </tr>\n",
       "  </thead>\n",
       "  <tbody>\n",
       "    <tr>\n",
       "      <th>0</th>\n",
       "      <td>0</td>\n",
       "      <td>1zZEly0sLmyDm75c1pAqYf</td>\n",
       "      <td>Lightskin Lil Wayne</td>\n",
       "      <td>2022-02-24T01:46:41.849Z</td>\n",
       "      <td>Intro Lil Wayne Fuck gon stand next nigga like...</td>\n",
       "      <td>-0.9919</td>\n",
       "    </tr>\n",
       "    <tr>\n",
       "      <th>1</th>\n",
       "      <td>1</td>\n",
       "      <td>1DIXPcTDzTj8ZMHt3PDt8p</td>\n",
       "      <td>Gangsta's Paradise</td>\n",
       "      <td>2022-02-24T01:44:07.533Z</td>\n",
       "      <td>Recording Info Verse 1 Coolio As I walk valley...</td>\n",
       "      <td>0.9886</td>\n",
       "    </tr>\n",
       "    <tr>\n",
       "      <th>2</th>\n",
       "      <td>2</td>\n",
       "      <td>4GhHrgsaiQsuMQCHTGa87C</td>\n",
       "      <td>Badlands</td>\n",
       "      <td>2022-02-24T01:29:39.950Z</td>\n",
       "      <td>Verse 1 I never tell want Seems like always go...</td>\n",
       "      <td>0.8548</td>\n",
       "    </tr>\n",
       "    <tr>\n",
       "      <th>3</th>\n",
       "      <td>3</td>\n",
       "      <td>4efLhkYJJf2R6WhbwpFi85</td>\n",
       "      <td>Black Panther (feat. Rafal)</td>\n",
       "      <td>2022-02-24T01:28:15.792Z</td>\n",
       "      <td>1 куплет Твое тело просто секс секс секс секс ...</td>\n",
       "      <td>0.5267</td>\n",
       "    </tr>\n",
       "    <tr>\n",
       "      <th>4</th>\n",
       "      <td>4</td>\n",
       "      <td>4wEbikMfcSFAukCbbL06si</td>\n",
       "      <td>No Vaseline</td>\n",
       "      <td>2022-02-24T01:24:32.475Z</td>\n",
       "      <td>Produced Sir Jinx Intro Damn Forgot somethin l...</td>\n",
       "      <td>-0.9996</td>\n",
       "    </tr>\n",
       "  </tbody>\n",
       "</table>\n",
       "</div>"
      ],
      "text/plain": [
       "   Unnamed: 0                 song_id                    song_name  \\\n",
       "0           0  1zZEly0sLmyDm75c1pAqYf          Lightskin Lil Wayne   \n",
       "1           1  1DIXPcTDzTj8ZMHt3PDt8p           Gangsta's Paradise   \n",
       "2           2  4GhHrgsaiQsuMQCHTGa87C                     Badlands   \n",
       "3           3  4efLhkYJJf2R6WhbwpFi85  Black Panther (feat. Rafal)   \n",
       "4           4  4wEbikMfcSFAukCbbL06si                  No Vaseline   \n",
       "\n",
       "           date_time_played  \\\n",
       "0  2022-02-24T01:46:41.849Z   \n",
       "1  2022-02-24T01:44:07.533Z   \n",
       "2  2022-02-24T01:29:39.950Z   \n",
       "3  2022-02-24T01:28:15.792Z   \n",
       "4  2022-02-24T01:24:32.475Z   \n",
       "\n",
       "                                              lyrics  sentiment_compound  \n",
       "0  Intro Lil Wayne Fuck gon stand next nigga like...             -0.9919  \n",
       "1  Recording Info Verse 1 Coolio As I walk valley...              0.9886  \n",
       "2  Verse 1 I never tell want Seems like always go...              0.8548  \n",
       "3  1 куплет Твое тело просто секс секс секс секс ...              0.5267  \n",
       "4  Produced Sir Jinx Intro Damn Forgot somethin l...             -0.9996  "
      ]
     },
     "execution_count": 24,
     "metadata": {},
     "output_type": "execute_result"
    }
   ],
   "source": [
    "music_df['sentiment_compound'] = music_df.lyrics.apply(sentimentScore)\n",
    "music_df.head()"
   ]
  },
  {
   "cell_type": "markdown",
   "metadata": {},
   "source": [
    "### Visualization"
   ]
  },
  {
   "cell_type": "code",
   "execution_count": 25,
   "metadata": {},
   "outputs": [
    {
     "data": {
      "text/plain": [
       "Gangsta's Paradise             1\n",
       "Black Panther (feat. Rafal)    1\n",
       "Badlands                       1\n",
       "Lightskin Lil Wayne            1\n",
       "No Vaseline                    1\n",
       "Name: song_name, dtype: int64"
      ]
     },
     "execution_count": 25,
     "metadata": {},
     "output_type": "execute_result"
    }
   ],
   "source": [
    "music_df.song_name.value_counts()"
   ]
  },
  {
   "cell_type": "code",
   "execution_count": 26,
   "metadata": {},
   "outputs": [
    {
     "data": {
      "text/plain": [
       "song_name\n",
       "No Vaseline                   -0.9996\n",
       "Lightskin Lil Wayne           -0.9919\n",
       "Black Panther (feat. Rafal)    0.5267\n",
       "Badlands                       0.8548\n",
       "Gangsta's Paradise             0.9886\n",
       "Name: sentiment_compound, dtype: float64"
      ]
     },
     "execution_count": 26,
     "metadata": {},
     "output_type": "execute_result"
    }
   ],
   "source": [
    "music_sent = music_df.groupby(['song_name'])['sentiment_compound'].mean().sort_values()\n",
    "music_sent"
   ]
  },
  {
   "cell_type": "code",
   "execution_count": 27,
   "metadata": {},
   "outputs": [
    {
     "data": {
      "text/plain": [
       "<AxesSubplot:xlabel='song_name'>"
      ]
     },
     "execution_count": 27,
     "metadata": {},
     "output_type": "execute_result"
    },
    {
     "data": {
      "image/png": "[encoded data removed]",
      "text/plain": [
       "<Figure size 432x288 with 1 Axes>"
      ]
     },
     "metadata": {
      "needs_background": "light"
     },
     "output_type": "display_data"
    }
   ],
   "source": [
    "music_sent.plot(kind=\"bar\")"
   ]
  },
  {
   "cell_type": "code",
   "execution_count": null,
   "metadata": {},
   "outputs": [],
   "source": []
  }
 ],
 "metadata": {
  "interpreter": {
   "hash": "b0fa6594d8f4cbf19f97940f81e996739fb7646882a419484c72d19e05852a7e"
  },
  "kernelspec": {
   "display_name": "mlenv",
   "language": "python",
   "name": "python3"
  },
  "language_info": {
   "codemirror_mode": {
    "name": "ipython",
    "version": 3
   },
   "file_extension": ".py",
   "mimetype": "text/x-python",
   "name": "python",
   "nbconvert_exporter": "python",
   "pygments_lexer": "ipython3",
   "version": "3.8.8"
  }
 },
 "nbformat": 4,
 "nbformat_minor": 4
}
