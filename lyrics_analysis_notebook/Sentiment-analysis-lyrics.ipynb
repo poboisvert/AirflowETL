{
 "cells": [
  {
   "cell_type": "markdown",
   "metadata": {},
   "source": [
    "### Dependencies"
   ]
  },
  {
   "cell_type": "code",
   "execution_count": 5,
   "metadata": {},
   "outputs": [],
   "source": [
    "#!pip install tensorflow"
   ]
  },
  {
   "cell_type": "code",
   "execution_count": 6,
   "metadata": {},
   "outputs": [],
   "source": [
    "import pandas as pd\n",
    "import numpy as np\n",
    "import sys\n",
    "import warnings\n",
    "\n",
    "# Regex\n",
    "import re\n",
    "\n",
    "# NLTK\n",
    "import nltk\n",
    "from nltk.sentiment.vader import SentimentIntensityAnalyzer\n",
    "from nltk.tokenize import RegexpTokenizer\n",
    "from nltk.corpus import stopwords\n",
    "\n",
    "# TextBlob\n",
    "from textblob import TextBlob\n",
    "\n",
    "#import tensorflow as tf\n",
    "#from tensorflow.keras import datasets, preprocessing, models, layers,regularizers\n",
    "#print(tf.__version__)\n",
    "\n",
    "if not sys.warnoptions:\n",
    "    warnings.simplefilter(\"ignore\")\n"
   ]
  },
  {
   "cell_type": "code",
   "execution_count": 7,
   "metadata": {},
   "outputs": [],
   "source": [
    "# Import"
   ]
  },
  {
   "cell_type": "code",
   "execution_count": 8,
   "metadata": {},
   "outputs": [
    {
     "data": {
      "text/html": [
       "<div>\n",
       "<style scoped>\n",
       "    .dataframe tbody tr th:only-of-type {\n",
       "        vertical-align: middle;\n",
       "    }\n",
       "\n",
       "    .dataframe tbody tr th {\n",
       "        vertical-align: top;\n",
       "    }\n",
       "\n",
       "    .dataframe thead th {\n",
       "        text-align: right;\n",
       "    }\n",
       "</style>\n",
       "<table border=\"1\" class=\"dataframe\">\n",
       "  <thead>\n",
       "    <tr style=\"text-align: right;\">\n",
       "      <th></th>\n",
       "      <th>Unnamed: 0</th>\n",
       "      <th>song_id</th>\n",
       "      <th>song_name</th>\n",
       "      <th>date_time_played</th>\n",
       "      <th>lyrics</th>\n",
       "    </tr>\n",
       "  </thead>\n",
       "  <tbody>\n",
       "    <tr>\n",
       "      <th>0</th>\n",
       "      <td>0</td>\n",
       "      <td>3a2jFwnts4Cf0OwJbK61SL</td>\n",
       "      <td>Gospel (with Eminem)</td>\n",
       "      <td>2022-02-21T00:00:25.741Z</td>\n",
       "      <td>Intro: Eminem &amp;amp; Dr. Dre\\nYeah (Yeah, yeah,...</td>\n",
       "    </tr>\n",
       "    <tr>\n",
       "      <th>1</th>\n",
       "      <td>1</td>\n",
       "      <td>6pcywuOeGGWeOQzdUyti6k</td>\n",
       "      <td>Glock In My Lap</td>\n",
       "      <td>2022-02-20T23:30:14.416Z</td>\n",
       "      <td>Intro\\nY'all niggas stop playin', nigga\\nY'all...</td>\n",
       "    </tr>\n",
       "  </tbody>\n",
       "</table>\n",
       "</div>"
      ],
      "text/plain": [
       "   Unnamed: 0                 song_id             song_name  \\\n",
       "0           0  3a2jFwnts4Cf0OwJbK61SL  Gospel (with Eminem)   \n",
       "1           1  6pcywuOeGGWeOQzdUyti6k       Glock In My Lap   \n",
       "\n",
       "           date_time_played                                             lyrics  \n",
       "0  2022-02-21T00:00:25.741Z  Intro: Eminem &amp; Dr. Dre\\nYeah (Yeah, yeah,...  \n",
       "1  2022-02-20T23:30:14.416Z  Intro\\nY'all niggas stop playin', nigga\\nY'all...  "
      ]
     },
     "execution_count": 8,
     "metadata": {},
     "output_type": "execute_result"
    }
   ],
   "source": [
    "music_df = pd.read_csv(\"../api/data/lyrics_etl.csv\")\n",
    "music_df.head()"
   ]
  },
  {
   "cell_type": "markdown",
   "metadata": {},
   "source": [
    "### Regex Cleaning"
   ]
  },
  {
   "cell_type": "code",
   "execution_count": 9,
   "metadata": {},
   "outputs": [],
   "source": [
    "def html_cleaner (string):\n",
    "    html_cleaner = re.sub(r'\\n', \" \", string)\n",
    "    return html_cleaner"
   ]
  },
  {
   "cell_type": "code",
   "execution_count": 10,
   "metadata": {},
   "outputs": [
    {
     "data": {
      "text/html": [
       "<div>\n",
       "<style scoped>\n",
       "    .dataframe tbody tr th:only-of-type {\n",
       "        vertical-align: middle;\n",
       "    }\n",
       "\n",
       "    .dataframe tbody tr th {\n",
       "        vertical-align: top;\n",
       "    }\n",
       "\n",
       "    .dataframe thead th {\n",
       "        text-align: right;\n",
       "    }\n",
       "</style>\n",
       "<table border=\"1\" class=\"dataframe\">\n",
       "  <thead>\n",
       "    <tr style=\"text-align: right;\">\n",
       "      <th></th>\n",
       "      <th>Unnamed: 0</th>\n",
       "      <th>song_id</th>\n",
       "      <th>song_name</th>\n",
       "      <th>date_time_played</th>\n",
       "      <th>lyrics</th>\n",
       "    </tr>\n",
       "  </thead>\n",
       "  <tbody>\n",
       "    <tr>\n",
       "      <th>0</th>\n",
       "      <td>0</td>\n",
       "      <td>3a2jFwnts4Cf0OwJbK61SL</td>\n",
       "      <td>Gospel (with Eminem)</td>\n",
       "      <td>2022-02-21T00:00:25.741Z</td>\n",
       "      <td>Intro: Eminem &amp;amp; Dr. Dre Yeah (Yeah, yeah, ...</td>\n",
       "    </tr>\n",
       "    <tr>\n",
       "      <th>1</th>\n",
       "      <td>1</td>\n",
       "      <td>6pcywuOeGGWeOQzdUyti6k</td>\n",
       "      <td>Glock In My Lap</td>\n",
       "      <td>2022-02-20T23:30:14.416Z</td>\n",
       "      <td>Intro Y'all niggas stop playin', nigga Y'all n...</td>\n",
       "    </tr>\n",
       "  </tbody>\n",
       "</table>\n",
       "</div>"
      ],
      "text/plain": [
       "   Unnamed: 0                 song_id             song_name  \\\n",
       "0           0  3a2jFwnts4Cf0OwJbK61SL  Gospel (with Eminem)   \n",
       "1           1  6pcywuOeGGWeOQzdUyti6k       Glock In My Lap   \n",
       "\n",
       "           date_time_played                                             lyrics  \n",
       "0  2022-02-21T00:00:25.741Z  Intro: Eminem &amp; Dr. Dre Yeah (Yeah, yeah, ...  \n",
       "1  2022-02-20T23:30:14.416Z  Intro Y'all niggas stop playin', nigga Y'all n...  "
      ]
     },
     "execution_count": 10,
     "metadata": {},
     "output_type": "execute_result"
    }
   ],
   "source": [
    "music_df['lyrics'] = music_df.lyrics.apply(html_cleaner)\n",
    "music_df.head()"
   ]
  },
  {
   "cell_type": "markdown",
   "metadata": {},
   "source": [
    "### Tokenization"
   ]
  },
  {
   "cell_type": "code",
   "execution_count": 11,
   "metadata": {},
   "outputs": [
    {
     "name": "stderr",
     "output_type": "stream",
     "text": [
      "[nltk_data] Downloading package punkt to /Users/pierre-\n",
      "[nltk_data]     macmini/nltk_data...\n",
      "[nltk_data]   Package punkt is already up-to-date!\n"
     ]
    },
    {
     "data": {
      "text/plain": [
       "True"
      ]
     },
     "execution_count": 11,
     "metadata": {},
     "output_type": "execute_result"
    }
   ],
   "source": [
    "# Donwload tokenizer from NLTK\n",
    "nltk.download('punkt')"
   ]
  },
  {
   "cell_type": "code",
   "execution_count": 12,
   "metadata": {},
   "outputs": [],
   "source": [
    "def tokenizer (string):\n",
    "    tokenizer = RegexpTokenizer(r'\\w+')\n",
    "    tokens = tokenizer.tokenize(string)\n",
    "    return tokens"
   ]
  },
  {
   "cell_type": "code",
   "execution_count": 13,
   "metadata": {},
   "outputs": [
    {
     "data": {
      "text/html": [
       "<div>\n",
       "<style scoped>\n",
       "    .dataframe tbody tr th:only-of-type {\n",
       "        vertical-align: middle;\n",
       "    }\n",
       "\n",
       "    .dataframe tbody tr th {\n",
       "        vertical-align: top;\n",
       "    }\n",
       "\n",
       "    .dataframe thead th {\n",
       "        text-align: right;\n",
       "    }\n",
       "</style>\n",
       "<table border=\"1\" class=\"dataframe\">\n",
       "  <thead>\n",
       "    <tr style=\"text-align: right;\">\n",
       "      <th></th>\n",
       "      <th>Unnamed: 0</th>\n",
       "      <th>song_id</th>\n",
       "      <th>song_name</th>\n",
       "      <th>date_time_played</th>\n",
       "      <th>lyrics</th>\n",
       "    </tr>\n",
       "  </thead>\n",
       "  <tbody>\n",
       "    <tr>\n",
       "      <th>0</th>\n",
       "      <td>0</td>\n",
       "      <td>3a2jFwnts4Cf0OwJbK61SL</td>\n",
       "      <td>Gospel (with Eminem)</td>\n",
       "      <td>2022-02-21T00:00:25.741Z</td>\n",
       "      <td>[Intro, Eminem, amp, Dr, Dre, Yeah, Yeah, yeah...</td>\n",
       "    </tr>\n",
       "    <tr>\n",
       "      <th>1</th>\n",
       "      <td>1</td>\n",
       "      <td>6pcywuOeGGWeOQzdUyti6k</td>\n",
       "      <td>Glock In My Lap</td>\n",
       "      <td>2022-02-20T23:30:14.416Z</td>\n",
       "      <td>[Intro, Y, all, niggas, stop, playin, nigga, Y...</td>\n",
       "    </tr>\n",
       "  </tbody>\n",
       "</table>\n",
       "</div>"
      ],
      "text/plain": [
       "   Unnamed: 0                 song_id             song_name  \\\n",
       "0           0  3a2jFwnts4Cf0OwJbK61SL  Gospel (with Eminem)   \n",
       "1           1  6pcywuOeGGWeOQzdUyti6k       Glock In My Lap   \n",
       "\n",
       "           date_time_played                                             lyrics  \n",
       "0  2022-02-21T00:00:25.741Z  [Intro, Eminem, amp, Dr, Dre, Yeah, Yeah, yeah...  \n",
       "1  2022-02-20T23:30:14.416Z  [Intro, Y, all, niggas, stop, playin, nigga, Y...  "
      ]
     },
     "execution_count": 13,
     "metadata": {},
     "output_type": "execute_result"
    }
   ],
   "source": [
    "music_df['lyrics'] = music_df['lyrics'].apply(tokenizer)\n",
    "music_df.head()"
   ]
  },
  {
   "cell_type": "code",
   "execution_count": 14,
   "metadata": {},
   "outputs": [
    {
     "data": {
      "text/html": [
       "<div>\n",
       "<style scoped>\n",
       "    .dataframe tbody tr th:only-of-type {\n",
       "        vertical-align: middle;\n",
       "    }\n",
       "\n",
       "    .dataframe tbody tr th {\n",
       "        vertical-align: top;\n",
       "    }\n",
       "\n",
       "    .dataframe thead th {\n",
       "        text-align: right;\n",
       "    }\n",
       "</style>\n",
       "<table border=\"1\" class=\"dataframe\">\n",
       "  <thead>\n",
       "    <tr style=\"text-align: right;\">\n",
       "      <th></th>\n",
       "      <th>Unnamed: 0</th>\n",
       "      <th>song_id</th>\n",
       "      <th>song_name</th>\n",
       "      <th>date_time_played</th>\n",
       "      <th>lyrics</th>\n",
       "    </tr>\n",
       "  </thead>\n",
       "  <tbody>\n",
       "    <tr>\n",
       "      <th>0</th>\n",
       "      <td>0</td>\n",
       "      <td>3a2jFwnts4Cf0OwJbK61SL</td>\n",
       "      <td>Gospel (with Eminem)</td>\n",
       "      <td>2022-02-21T00:00:25.741Z</td>\n",
       "      <td>Intro Eminem amp Dr Dre Yeah Yeah yeah yeah ye...</td>\n",
       "    </tr>\n",
       "    <tr>\n",
       "      <th>1</th>\n",
       "      <td>1</td>\n",
       "      <td>6pcywuOeGGWeOQzdUyti6k</td>\n",
       "      <td>Glock In My Lap</td>\n",
       "      <td>2022-02-20T23:30:14.416Z</td>\n",
       "      <td>Intro Y all niggas stop playin nigga Y all nig...</td>\n",
       "    </tr>\n",
       "  </tbody>\n",
       "</table>\n",
       "</div>"
      ],
      "text/plain": [
       "   Unnamed: 0                 song_id             song_name  \\\n",
       "0           0  3a2jFwnts4Cf0OwJbK61SL  Gospel (with Eminem)   \n",
       "1           1  6pcywuOeGGWeOQzdUyti6k       Glock In My Lap   \n",
       "\n",
       "           date_time_played                                             lyrics  \n",
       "0  2022-02-21T00:00:25.741Z  Intro Eminem amp Dr Dre Yeah Yeah yeah yeah ye...  \n",
       "1  2022-02-20T23:30:14.416Z  Intro Y all niggas stop playin nigga Y all nig...  "
      ]
     },
     "execution_count": 14,
     "metadata": {},
     "output_type": "execute_result"
    }
   ],
   "source": [
    "# Remove comma\n",
    "music_df['lyrics'] = music_df['lyrics'].apply(lambda x: \" \".join(x))\n",
    "music_df.head()"
   ]
  },
  {
   "cell_type": "markdown",
   "metadata": {},
   "source": [
    "### Stop Words"
   ]
  },
  {
   "cell_type": "code",
   "execution_count": 15,
   "metadata": {},
   "outputs": [
    {
     "name": "stderr",
     "output_type": "stream",
     "text": [
      "[nltk_data] Downloading package stopwords to /Users/pierre-\n",
      "[nltk_data]     macmini/nltk_data...\n",
      "[nltk_data]   Package stopwords is already up-to-date!\n"
     ]
    },
    {
     "data": {
      "text/plain": [
       "True"
      ]
     },
     "execution_count": 15,
     "metadata": {},
     "output_type": "execute_result"
    }
   ],
   "source": [
    "nltk.download('stopwords') #stopwords"
   ]
  },
  {
   "cell_type": "code",
   "execution_count": 16,
   "metadata": {},
   "outputs": [
    {
     "name": "stdout",
     "output_type": "stream",
     "text": [
      "{'but', 'myself', 'same', 'in', 'needn', \"she's\", 'been', 'so', 're', \"hadn't\", 'we', 'only', 'doing', 'himself', \"you'd\", 'how', 'y', 'theirs', 'mustn', 'at', 'i', 'a', 'didn', 'has', 'aren', 'above', 'shouldn', 'on', \"won't\", 'weren', 'why', 'are', 'their', 'had', 'do', 'for', 'hers', \"isn't\", 'while', 'ma', 'other', 't', 'again', 'isn', 'where', 'those', \"you've\", 'as', 'very', \"you'll\", 'from', 'should', 'was', \"mustn't\", \"doesn't\", 'because', 'there', 'couldn', 'the', 'now', 'yourself', 'down', \"should've\", 'to', 'they', 'wasn', 'against', 'ours', 'more', 'until', 'itself', 'when', \"it's\", \"hasn't\", 'did', \"mightn't\", 'and', 'below', 'd', 'these', 'hadn', 'yours', 'this', 'through', 'some', 'doesn', 'his', 'our', 'have', 'over', 'having', \"shan't\", 'them', 'few', 'such', \"aren't\", 'whom', 'being', 'just', 'not', 'it', 'then', 've', 'can', \"haven't\", 'any', 'o', 'my', 'will', 'your', 'haven', 'before', 'be', 'with', 'by', 'both', \"needn't\", 'between', 'her', 'he', 'most', 'than', 'an', 'don', 'into', 'of', 'during', 'll', 'its', \"that'll\", \"don't\", 'you', 'nor', 'hasn', 'here', 'which', 'who', 'after', 'out', 'further', 'no', 's', \"shouldn't\", 'me', 'what', 'does', 'too', 'm', 'am', 'each', 'if', 'own', 'once', 'up', 'is', 'mightn', \"you're\", 'under', 'herself', 'all', \"couldn't\", 'that', 'him', 'she', 'off', 'or', \"didn't\", 'won', 'yourselves', \"weren't\", 'wouldn', 'were', 'ourselves', 'themselves', 'ain', \"wasn't\", 'about', 'shan', \"wouldn't\"}\n"
     ]
    }
   ],
   "source": [
    "stop_words = set(stopwords.words('english'))\n",
    "print(stop_words)"
   ]
  },
  {
   "cell_type": "code",
   "execution_count": 17,
   "metadata": {},
   "outputs": [],
   "source": [
    "music_df.lyrics = music_df.lyrics.apply(lambda x: x.split(\" \"))"
   ]
  },
  {
   "cell_type": "code",
   "execution_count": 18,
   "metadata": {},
   "outputs": [],
   "source": [
    "def stop_words (data):\n",
    "    stop_words = set(stopwords.words('english'))\n",
    "    stop_words_list = []\n",
    "    for string in data:\n",
    "        if string not in stop_words:\n",
    "            stop_words_list.append(string)\n",
    "    return \" \".join(stop_words_list)"
   ]
  },
  {
   "cell_type": "code",
   "execution_count": 19,
   "metadata": {},
   "outputs": [
    {
     "data": {
      "text/html": [
       "<div>\n",
       "<style scoped>\n",
       "    .dataframe tbody tr th:only-of-type {\n",
       "        vertical-align: middle;\n",
       "    }\n",
       "\n",
       "    .dataframe tbody tr th {\n",
       "        vertical-align: top;\n",
       "    }\n",
       "\n",
       "    .dataframe thead th {\n",
       "        text-align: right;\n",
       "    }\n",
       "</style>\n",
       "<table border=\"1\" class=\"dataframe\">\n",
       "  <thead>\n",
       "    <tr style=\"text-align: right;\">\n",
       "      <th></th>\n",
       "      <th>Unnamed: 0</th>\n",
       "      <th>song_id</th>\n",
       "      <th>song_name</th>\n",
       "      <th>date_time_played</th>\n",
       "      <th>lyrics</th>\n",
       "    </tr>\n",
       "  </thead>\n",
       "  <tbody>\n",
       "    <tr>\n",
       "      <th>0</th>\n",
       "      <td>0</td>\n",
       "      <td>3a2jFwnts4Cf0OwJbK61SL</td>\n",
       "      <td>Gospel (with Eminem)</td>\n",
       "      <td>2022-02-21T00:00:25.741Z</td>\n",
       "      <td>Intro Eminem amp Dr Dre Yeah Yeah yeah yeah ye...</td>\n",
       "    </tr>\n",
       "    <tr>\n",
       "      <th>1</th>\n",
       "      <td>1</td>\n",
       "      <td>6pcywuOeGGWeOQzdUyti6k</td>\n",
       "      <td>Glock In My Lap</td>\n",
       "      <td>2022-02-20T23:30:14.416Z</td>\n",
       "      <td>Intro Y niggas stop playin nigga Y niggas know...</td>\n",
       "    </tr>\n",
       "  </tbody>\n",
       "</table>\n",
       "</div>"
      ],
      "text/plain": [
       "   Unnamed: 0                 song_id             song_name  \\\n",
       "0           0  3a2jFwnts4Cf0OwJbK61SL  Gospel (with Eminem)   \n",
       "1           1  6pcywuOeGGWeOQzdUyti6k       Glock In My Lap   \n",
       "\n",
       "           date_time_played                                             lyrics  \n",
       "0  2022-02-21T00:00:25.741Z  Intro Eminem amp Dr Dre Yeah Yeah yeah yeah ye...  \n",
       "1  2022-02-20T23:30:14.416Z  Intro Y niggas stop playin nigga Y niggas know...  "
      ]
     },
     "execution_count": 19,
     "metadata": {},
     "output_type": "execute_result"
    }
   ],
   "source": [
    "music_df.lyrics = music_df.lyrics.apply(stop_words)\n",
    "music_df.head()"
   ]
  },
  {
   "cell_type": "markdown",
   "metadata": {},
   "source": [
    "### Sentiment Analysis"
   ]
  },
  {
   "cell_type": "code",
   "execution_count": 20,
   "metadata": {},
   "outputs": [
    {
     "data": {
      "text/plain": [
       "Sentiment(polarity=0.5, subjectivity=0.6)"
      ]
     },
     "execution_count": 20,
     "metadata": {},
     "output_type": "execute_result"
    }
   ],
   "source": [
    "my_test = \"I love my wife\"\n",
    "blob = TextBlob(my_test)\n",
    "blob.sentiment"
   ]
  },
  {
   "cell_type": "code",
   "execution_count": 21,
   "metadata": {},
   "outputs": [
    {
     "name": "stderr",
     "output_type": "stream",
     "text": [
      "[nltk_data] Downloading package vader_lexicon to /Users/pierre-\n",
      "[nltk_data]     macmini/nltk_data...\n",
      "[nltk_data]   Package vader_lexicon is already up-to-date!\n"
     ]
    },
    {
     "data": {
      "text/plain": [
       "True"
      ]
     },
     "execution_count": 21,
     "metadata": {},
     "output_type": "execute_result"
    }
   ],
   "source": [
    "nltk.download('vader_lexicon')"
   ]
  },
  {
   "cell_type": "code",
   "execution_count": 22,
   "metadata": {},
   "outputs": [
    {
     "data": {
      "text/plain": [
       "{'neg': 0.0, 'neu': 0.323, 'pos': 0.677, 'compound': 0.6369}"
      ]
     },
     "execution_count": 22,
     "metadata": {},
     "output_type": "execute_result"
    }
   ],
   "source": [
    "intAnalyser = SentimentIntensityAnalyzer()\n",
    "polarity = intAnalyser.polarity_scores(my_test)\n",
    "polarity"
   ]
  },
  {
   "cell_type": "code",
   "execution_count": 23,
   "metadata": {},
   "outputs": [],
   "source": [
    "def sentimentScore(sentence):\n",
    "    sia = SentimentIntensityAnalyzer()\n",
    "    polarity = sia.polarity_scores(sentence)\n",
    "    pol = polarity['compound']\n",
    "    return pol"
   ]
  },
  {
   "cell_type": "code",
   "execution_count": 24,
   "metadata": {},
   "outputs": [
    {
     "data": {
      "text/html": [
       "<div>\n",
       "<style scoped>\n",
       "    .dataframe tbody tr th:only-of-type {\n",
       "        vertical-align: middle;\n",
       "    }\n",
       "\n",
       "    .dataframe tbody tr th {\n",
       "        vertical-align: top;\n",
       "    }\n",
       "\n",
       "    .dataframe thead th {\n",
       "        text-align: right;\n",
       "    }\n",
       "</style>\n",
       "<table border=\"1\" class=\"dataframe\">\n",
       "  <thead>\n",
       "    <tr style=\"text-align: right;\">\n",
       "      <th></th>\n",
       "      <th>Unnamed: 0</th>\n",
       "      <th>song_id</th>\n",
       "      <th>song_name</th>\n",
       "      <th>date_time_played</th>\n",
       "      <th>lyrics</th>\n",
       "      <th>sentiment_compound</th>\n",
       "    </tr>\n",
       "  </thead>\n",
       "  <tbody>\n",
       "    <tr>\n",
       "      <th>0</th>\n",
       "      <td>0</td>\n",
       "      <td>3a2jFwnts4Cf0OwJbK61SL</td>\n",
       "      <td>Gospel (with Eminem)</td>\n",
       "      <td>2022-02-21T00:00:25.741Z</td>\n",
       "      <td>Intro Eminem amp Dr Dre Yeah Yeah yeah yeah ye...</td>\n",
       "      <td>-0.9833</td>\n",
       "    </tr>\n",
       "    <tr>\n",
       "      <th>1</th>\n",
       "      <td>1</td>\n",
       "      <td>6pcywuOeGGWeOQzdUyti6k</td>\n",
       "      <td>Glock In My Lap</td>\n",
       "      <td>2022-02-20T23:30:14.416Z</td>\n",
       "      <td>Intro Y niggas stop playin nigga Y niggas know...</td>\n",
       "      <td>-0.8601</td>\n",
       "    </tr>\n",
       "  </tbody>\n",
       "</table>\n",
       "</div>"
      ],
      "text/plain": [
       "   Unnamed: 0                 song_id             song_name  \\\n",
       "0           0  3a2jFwnts4Cf0OwJbK61SL  Gospel (with Eminem)   \n",
       "1           1  6pcywuOeGGWeOQzdUyti6k       Glock In My Lap   \n",
       "\n",
       "           date_time_played  \\\n",
       "0  2022-02-21T00:00:25.741Z   \n",
       "1  2022-02-20T23:30:14.416Z   \n",
       "\n",
       "                                              lyrics  sentiment_compound  \n",
       "0  Intro Eminem amp Dr Dre Yeah Yeah yeah yeah ye...             -0.9833  \n",
       "1  Intro Y niggas stop playin nigga Y niggas know...             -0.8601  "
      ]
     },
     "execution_count": 24,
     "metadata": {},
     "output_type": "execute_result"
    }
   ],
   "source": [
    "music_df['sentiment_compound'] = music_df.lyrics.apply(sentimentScore)\n",
    "music_df.head()"
   ]
  },
  {
   "cell_type": "markdown",
   "metadata": {},
   "source": [
    "### Visualization"
   ]
  },
  {
   "cell_type": "code",
   "execution_count": 25,
   "metadata": {},
   "outputs": [
    {
     "data": {
      "text/plain": [
       "Gospel (with Eminem)    1\n",
       "Glock In My Lap         1\n",
       "Name: song_name, dtype: int64"
      ]
     },
     "execution_count": 25,
     "metadata": {},
     "output_type": "execute_result"
    }
   ],
   "source": [
    "music_df.song_name.value_counts()"
   ]
  },
  {
   "cell_type": "code",
   "execution_count": 26,
   "metadata": {},
   "outputs": [
    {
     "data": {
      "text/plain": [
       "song_name\n",
       "Gospel (with Eminem)   -0.9833\n",
       "Glock In My Lap        -0.8601\n",
       "Name: sentiment_compound, dtype: float64"
      ]
     },
     "execution_count": 26,
     "metadata": {},
     "output_type": "execute_result"
    }
   ],
   "source": [
    "music_sent = music_df.groupby(['song_name'])['sentiment_compound'].mean().sort_values()\n",
    "music_sent"
   ]
  },
  {
   "cell_type": "code",
   "execution_count": 27,
   "metadata": {},
   "outputs": [
    {
     "data": {
      "text/plain": [
       "<AxesSubplot:xlabel='song_name'>"
      ]
     },
     "execution_count": 27,
     "metadata": {},
     "output_type": "execute_result"
    },
    {
     "data": {
      "image/png": "[encoded data removed]",
      "text/plain": [
       "<Figure size 432x288 with 1 Axes>"
      ]
     },
     "metadata": {
      "needs_background": "light"
     },
     "output_type": "display_data"
    }
   ],
   "source": [
    "music_sent.plot(kind=\"bar\")"
   ]
  },
  {
   "cell_type": "code",
   "execution_count": null,
   "metadata": {},
   "outputs": [],
   "source": []
  }
 ],
 "metadata": {
  "interpreter": {
   "hash": "b0fa6594d8f4cbf19f97940f81e996739fb7646882a419484c72d19e05852a7e"
  },
  "kernelspec": {
   "display_name": "mlenv",
   "language": "python",
   "name": "python3"
  },
  "language_info": {
   "codemirror_mode": {
    "name": "ipython",
    "version": 3
   },
   "file_extension": ".py",
   "mimetype": "text/x-python",
   "name": "python",
   "nbconvert_exporter": "python",
   "pygments_lexer": "ipython3",
   "version": "3.8.8"
  }
 },
 "nbformat": 4,
 "nbformat_minor": 4
}
