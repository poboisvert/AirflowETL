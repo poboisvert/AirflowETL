{
 "cells": [
  {
   "cell_type": "markdown",
   "metadata": {},
   "source": [
    "### Dependencies"
   ]
  },
  {
   "cell_type": "code",
   "execution_count": 1,
   "metadata": {},
   "outputs": [],
   "source": [
    "#!pip install tensorflow"
   ]
  },
  {
   "cell_type": "code",
   "execution_count": 2,
   "metadata": {},
   "outputs": [
    {
     "name": "stdout",
     "output_type": "stream",
     "text": [
      "2.4.1\n"
     ]
    }
   ],
   "source": [
    "import pandas as pd\n",
    "import numpy as np\n",
    "import sys\n",
    "import warnings\n",
    "\n",
    "# Regex\n",
    "import re\n",
    "\n",
    "# NLTK\n",
    "import nltk\n",
    "from nltk.sentiment.vader import SentimentIntensityAnalyzer\n",
    "from nltk.tokenize import RegexpTokenizer\n",
    "from nltk.corpus import stopwords\n",
    "\n",
    "# TextBlob\n",
    "from textblob import TextBlob\n",
    "\n",
    "import tensorflow as tf\n",
    "from tensorflow.keras import datasets, preprocessing, models, layers,regularizers\n",
    "\n",
    "if not sys.warnoptions:\n",
    "    warnings.simplefilter(\"ignore\")\n",
    "\n",
    "print(tf.__version__)"
   ]
  },
  {
   "cell_type": "code",
   "execution_count": 3,
   "metadata": {},
   "outputs": [],
   "source": [
    "# Import"
   ]
  },
  {
   "cell_type": "code",
   "execution_count": 4,
   "metadata": {},
   "outputs": [
    {
     "data": {
      "text/html": [
       "<div>\n",
       "<style scoped>\n",
       "    .dataframe tbody tr th:only-of-type {\n",
       "        vertical-align: middle;\n",
       "    }\n",
       "\n",
       "    .dataframe tbody tr th {\n",
       "        vertical-align: top;\n",
       "    }\n",
       "\n",
       "    .dataframe thead th {\n",
       "        text-align: right;\n",
       "    }\n",
       "</style>\n",
       "<table border=\"1\" class=\"dataframe\">\n",
       "  <thead>\n",
       "    <tr style=\"text-align: right;\">\n",
       "      <th></th>\n",
       "      <th>Unnamed: 0</th>\n",
       "      <th>song_id</th>\n",
       "      <th>song_name</th>\n",
       "      <th>date_time_played</th>\n",
       "      <th>lyrics</th>\n",
       "    </tr>\n",
       "  </thead>\n",
       "  <tbody>\n",
       "    <tr>\n",
       "      <th>0</th>\n",
       "      <td>0</td>\n",
       "      <td>1ByE7lUw6wWMTbCb3woHdK</td>\n",
       "      <td>Know</td>\n",
       "      <td>2021-08-07T17:57:43.867Z</td>\n",
       "      <td>Intro: Serj Tankian\\nCursed Earth!\\nCursed Ear...</td>\n",
       "    </tr>\n",
       "    <tr>\n",
       "      <th>1</th>\n",
       "      <td>1</td>\n",
       "      <td>1VNWaY3uNfoeWqb5U8x2QX</td>\n",
       "      <td>Lonely Day</td>\n",
       "      <td>2021-08-07T17:49:32.919Z</td>\n",
       "      <td>Verse 1: Daron Malakian\\nSuch a lonely day and...</td>\n",
       "    </tr>\n",
       "    <tr>\n",
       "      <th>2</th>\n",
       "      <td>2</td>\n",
       "      <td>2DlHlPMa4M17kufBvI2lEN</td>\n",
       "      <td>Chop Suey!</td>\n",
       "      <td>2021-08-07T17:47:20.638Z</td>\n",
       "      <td>Intro: Serj Tankian\\nWe're rolling \"Suicide\"\\n...</td>\n",
       "    </tr>\n",
       "    <tr>\n",
       "      <th>3</th>\n",
       "      <td>3</td>\n",
       "      <td>31RTFPrB7wmYBhlkM2ILXG</td>\n",
       "      <td>Sugar</td>\n",
       "      <td>2021-08-07T17:41:26.344Z</td>\n",
       "      <td>Chorus: Serj Tankian &amp;amp; Daron Malakian\\nThe...</td>\n",
       "    </tr>\n",
       "    <tr>\n",
       "      <th>4</th>\n",
       "      <td>4</td>\n",
       "      <td>47EqCQZG5v4o0WFMufGf5S</td>\n",
       "      <td>Cigaro</td>\n",
       "      <td>2021-08-07T17:39:01.548Z</td>\n",
       "      <td>Intro: Serj Tankian\\nWhoah\\n\\nVerse 1: Serj Ta...</td>\n",
       "    </tr>\n",
       "  </tbody>\n",
       "</table>\n",
       "</div>"
      ],
      "text/plain": [
       "   Unnamed: 0                 song_id   song_name          date_time_played  \\\n",
       "0           0  1ByE7lUw6wWMTbCb3woHdK        Know  2021-08-07T17:57:43.867Z   \n",
       "1           1  1VNWaY3uNfoeWqb5U8x2QX  Lonely Day  2021-08-07T17:49:32.919Z   \n",
       "2           2  2DlHlPMa4M17kufBvI2lEN  Chop Suey!  2021-08-07T17:47:20.638Z   \n",
       "3           3  31RTFPrB7wmYBhlkM2ILXG       Sugar  2021-08-07T17:41:26.344Z   \n",
       "4           4  47EqCQZG5v4o0WFMufGf5S      Cigaro  2021-08-07T17:39:01.548Z   \n",
       "\n",
       "                                              lyrics  \n",
       "0  Intro: Serj Tankian\\nCursed Earth!\\nCursed Ear...  \n",
       "1  Verse 1: Daron Malakian\\nSuch a lonely day and...  \n",
       "2  Intro: Serj Tankian\\nWe're rolling \"Suicide\"\\n...  \n",
       "3  Chorus: Serj Tankian &amp; Daron Malakian\\nThe...  \n",
       "4  Intro: Serj Tankian\\nWhoah\\n\\nVerse 1: Serj Ta...  "
      ]
     },
     "execution_count": 4,
     "metadata": {},
     "output_type": "execute_result"
    }
   ],
   "source": [
    "music_df = pd.read_csv(\"../api/data/lyrics_etl.csv\")\n",
    "music_df.head()"
   ]
  },
  {
   "cell_type": "markdown",
   "metadata": {},
   "source": [
    "### Regex Cleaning"
   ]
  },
  {
   "cell_type": "code",
   "execution_count": 5,
   "metadata": {},
   "outputs": [],
   "source": [
    "def html_cleaner (string):\n",
    "    html_cleaner = re.sub(r'\\n', \" \", string)\n",
    "    return html_cleaner"
   ]
  },
  {
   "cell_type": "code",
   "execution_count": 6,
   "metadata": {},
   "outputs": [
    {
     "data": {
      "text/html": [
       "<div>\n",
       "<style scoped>\n",
       "    .dataframe tbody tr th:only-of-type {\n",
       "        vertical-align: middle;\n",
       "    }\n",
       "\n",
       "    .dataframe tbody tr th {\n",
       "        vertical-align: top;\n",
       "    }\n",
       "\n",
       "    .dataframe thead th {\n",
       "        text-align: right;\n",
       "    }\n",
       "</style>\n",
       "<table border=\"1\" class=\"dataframe\">\n",
       "  <thead>\n",
       "    <tr style=\"text-align: right;\">\n",
       "      <th></th>\n",
       "      <th>Unnamed: 0</th>\n",
       "      <th>song_id</th>\n",
       "      <th>song_name</th>\n",
       "      <th>date_time_played</th>\n",
       "      <th>lyrics</th>\n",
       "    </tr>\n",
       "  </thead>\n",
       "  <tbody>\n",
       "    <tr>\n",
       "      <th>0</th>\n",
       "      <td>0</td>\n",
       "      <td>1ByE7lUw6wWMTbCb3woHdK</td>\n",
       "      <td>Know</td>\n",
       "      <td>2021-08-07T17:57:43.867Z</td>\n",
       "      <td>Intro: Serj Tankian Cursed Earth! Cursed Earth...</td>\n",
       "    </tr>\n",
       "    <tr>\n",
       "      <th>1</th>\n",
       "      <td>1</td>\n",
       "      <td>1VNWaY3uNfoeWqb5U8x2QX</td>\n",
       "      <td>Lonely Day</td>\n",
       "      <td>2021-08-07T17:49:32.919Z</td>\n",
       "      <td>Verse 1: Daron Malakian Such a lonely day and ...</td>\n",
       "    </tr>\n",
       "    <tr>\n",
       "      <th>2</th>\n",
       "      <td>2</td>\n",
       "      <td>2DlHlPMa4M17kufBvI2lEN</td>\n",
       "      <td>Chop Suey!</td>\n",
       "      <td>2021-08-07T17:47:20.638Z</td>\n",
       "      <td>Intro: Serj Tankian We're rolling \"Suicide\"  V...</td>\n",
       "    </tr>\n",
       "    <tr>\n",
       "      <th>3</th>\n",
       "      <td>3</td>\n",
       "      <td>31RTFPrB7wmYBhlkM2ILXG</td>\n",
       "      <td>Sugar</td>\n",
       "      <td>2021-08-07T17:41:26.344Z</td>\n",
       "      <td>Chorus: Serj Tankian &amp;amp; Daron Malakian The ...</td>\n",
       "    </tr>\n",
       "    <tr>\n",
       "      <th>4</th>\n",
       "      <td>4</td>\n",
       "      <td>47EqCQZG5v4o0WFMufGf5S</td>\n",
       "      <td>Cigaro</td>\n",
       "      <td>2021-08-07T17:39:01.548Z</td>\n",
       "      <td>Intro: Serj Tankian Whoah  Verse 1: Serj Tanki...</td>\n",
       "    </tr>\n",
       "  </tbody>\n",
       "</table>\n",
       "</div>"
      ],
      "text/plain": [
       "   Unnamed: 0                 song_id   song_name          date_time_played  \\\n",
       "0           0  1ByE7lUw6wWMTbCb3woHdK        Know  2021-08-07T17:57:43.867Z   \n",
       "1           1  1VNWaY3uNfoeWqb5U8x2QX  Lonely Day  2021-08-07T17:49:32.919Z   \n",
       "2           2  2DlHlPMa4M17kufBvI2lEN  Chop Suey!  2021-08-07T17:47:20.638Z   \n",
       "3           3  31RTFPrB7wmYBhlkM2ILXG       Sugar  2021-08-07T17:41:26.344Z   \n",
       "4           4  47EqCQZG5v4o0WFMufGf5S      Cigaro  2021-08-07T17:39:01.548Z   \n",
       "\n",
       "                                              lyrics  \n",
       "0  Intro: Serj Tankian Cursed Earth! Cursed Earth...  \n",
       "1  Verse 1: Daron Malakian Such a lonely day and ...  \n",
       "2  Intro: Serj Tankian We're rolling \"Suicide\"  V...  \n",
       "3  Chorus: Serj Tankian &amp; Daron Malakian The ...  \n",
       "4  Intro: Serj Tankian Whoah  Verse 1: Serj Tanki...  "
      ]
     },
     "execution_count": 6,
     "metadata": {},
     "output_type": "execute_result"
    }
   ],
   "source": [
    "music_df['lyrics'] = music_df.lyrics.apply(html_cleaner)\n",
    "music_df.head()"
   ]
  },
  {
   "cell_type": "markdown",
   "metadata": {},
   "source": [
    "### Tokenization"
   ]
  },
  {
   "cell_type": "code",
   "execution_count": 7,
   "metadata": {},
   "outputs": [
    {
     "name": "stderr",
     "output_type": "stream",
     "text": [
      "[nltk_data] Downloading package punkt to /Users/pierre-\n",
      "[nltk_data]     olivierboisvert/nltk_data...\n",
      "[nltk_data]   Package punkt is already up-to-date!\n"
     ]
    },
    {
     "data": {
      "text/plain": [
       "True"
      ]
     },
     "execution_count": 7,
     "metadata": {},
     "output_type": "execute_result"
    }
   ],
   "source": [
    "# Donwload tokenizer from NLTK\n",
    "nltk.download('punkt')"
   ]
  },
  {
   "cell_type": "code",
   "execution_count": 8,
   "metadata": {},
   "outputs": [],
   "source": [
    "def tokenizer (string):\n",
    "    tokenizer = RegexpTokenizer(r'\\w+')\n",
    "    tokens = tokenizer.tokenize(string)\n",
    "    return tokens"
   ]
  },
  {
   "cell_type": "code",
   "execution_count": 9,
   "metadata": {},
   "outputs": [
    {
     "data": {
      "text/html": [
       "<div>\n",
       "<style scoped>\n",
       "    .dataframe tbody tr th:only-of-type {\n",
       "        vertical-align: middle;\n",
       "    }\n",
       "\n",
       "    .dataframe tbody tr th {\n",
       "        vertical-align: top;\n",
       "    }\n",
       "\n",
       "    .dataframe thead th {\n",
       "        text-align: right;\n",
       "    }\n",
       "</style>\n",
       "<table border=\"1\" class=\"dataframe\">\n",
       "  <thead>\n",
       "    <tr style=\"text-align: right;\">\n",
       "      <th></th>\n",
       "      <th>Unnamed: 0</th>\n",
       "      <th>song_id</th>\n",
       "      <th>song_name</th>\n",
       "      <th>date_time_played</th>\n",
       "      <th>lyrics</th>\n",
       "    </tr>\n",
       "  </thead>\n",
       "  <tbody>\n",
       "    <tr>\n",
       "      <th>0</th>\n",
       "      <td>0</td>\n",
       "      <td>1ByE7lUw6wWMTbCb3woHdK</td>\n",
       "      <td>Know</td>\n",
       "      <td>2021-08-07T17:57:43.867Z</td>\n",
       "      <td>[Intro, Serj, Tankian, Cursed, Earth, Cursed, ...</td>\n",
       "    </tr>\n",
       "    <tr>\n",
       "      <th>1</th>\n",
       "      <td>1</td>\n",
       "      <td>1VNWaY3uNfoeWqb5U8x2QX</td>\n",
       "      <td>Lonely Day</td>\n",
       "      <td>2021-08-07T17:49:32.919Z</td>\n",
       "      <td>[Verse, 1, Daron, Malakian, Such, a, lonely, d...</td>\n",
       "    </tr>\n",
       "    <tr>\n",
       "      <th>2</th>\n",
       "      <td>2</td>\n",
       "      <td>2DlHlPMa4M17kufBvI2lEN</td>\n",
       "      <td>Chop Suey!</td>\n",
       "      <td>2021-08-07T17:47:20.638Z</td>\n",
       "      <td>[Intro, Serj, Tankian, We, re, rolling, Suicid...</td>\n",
       "    </tr>\n",
       "    <tr>\n",
       "      <th>3</th>\n",
       "      <td>3</td>\n",
       "      <td>31RTFPrB7wmYBhlkM2ILXG</td>\n",
       "      <td>Sugar</td>\n",
       "      <td>2021-08-07T17:41:26.344Z</td>\n",
       "      <td>[Chorus, Serj, Tankian, amp, Daron, Malakian, ...</td>\n",
       "    </tr>\n",
       "    <tr>\n",
       "      <th>4</th>\n",
       "      <td>4</td>\n",
       "      <td>47EqCQZG5v4o0WFMufGf5S</td>\n",
       "      <td>Cigaro</td>\n",
       "      <td>2021-08-07T17:39:01.548Z</td>\n",
       "      <td>[Intro, Serj, Tankian, Whoah, Verse, 1, Serj, ...</td>\n",
       "    </tr>\n",
       "  </tbody>\n",
       "</table>\n",
       "</div>"
      ],
      "text/plain": [
       "   Unnamed: 0                 song_id   song_name          date_time_played  \\\n",
       "0           0  1ByE7lUw6wWMTbCb3woHdK        Know  2021-08-07T17:57:43.867Z   \n",
       "1           1  1VNWaY3uNfoeWqb5U8x2QX  Lonely Day  2021-08-07T17:49:32.919Z   \n",
       "2           2  2DlHlPMa4M17kufBvI2lEN  Chop Suey!  2021-08-07T17:47:20.638Z   \n",
       "3           3  31RTFPrB7wmYBhlkM2ILXG       Sugar  2021-08-07T17:41:26.344Z   \n",
       "4           4  47EqCQZG5v4o0WFMufGf5S      Cigaro  2021-08-07T17:39:01.548Z   \n",
       "\n",
       "                                              lyrics  \n",
       "0  [Intro, Serj, Tankian, Cursed, Earth, Cursed, ...  \n",
       "1  [Verse, 1, Daron, Malakian, Such, a, lonely, d...  \n",
       "2  [Intro, Serj, Tankian, We, re, rolling, Suicid...  \n",
       "3  [Chorus, Serj, Tankian, amp, Daron, Malakian, ...  \n",
       "4  [Intro, Serj, Tankian, Whoah, Verse, 1, Serj, ...  "
      ]
     },
     "execution_count": 9,
     "metadata": {},
     "output_type": "execute_result"
    }
   ],
   "source": [
    "music_df['lyrics'] = music_df['lyrics'].apply(tokenizer)\n",
    "music_df.head()"
   ]
  },
  {
   "cell_type": "code",
   "execution_count": 10,
   "metadata": {},
   "outputs": [
    {
     "data": {
      "text/html": [
       "<div>\n",
       "<style scoped>\n",
       "    .dataframe tbody tr th:only-of-type {\n",
       "        vertical-align: middle;\n",
       "    }\n",
       "\n",
       "    .dataframe tbody tr th {\n",
       "        vertical-align: top;\n",
       "    }\n",
       "\n",
       "    .dataframe thead th {\n",
       "        text-align: right;\n",
       "    }\n",
       "</style>\n",
       "<table border=\"1\" class=\"dataframe\">\n",
       "  <thead>\n",
       "    <tr style=\"text-align: right;\">\n",
       "      <th></th>\n",
       "      <th>Unnamed: 0</th>\n",
       "      <th>song_id</th>\n",
       "      <th>song_name</th>\n",
       "      <th>date_time_played</th>\n",
       "      <th>lyrics</th>\n",
       "    </tr>\n",
       "  </thead>\n",
       "  <tbody>\n",
       "    <tr>\n",
       "      <th>0</th>\n",
       "      <td>0</td>\n",
       "      <td>1ByE7lUw6wWMTbCb3woHdK</td>\n",
       "      <td>Know</td>\n",
       "      <td>2021-08-07T17:57:43.867Z</td>\n",
       "      <td>Intro Serj Tankian Cursed Earth Cursed Earth C...</td>\n",
       "    </tr>\n",
       "    <tr>\n",
       "      <th>1</th>\n",
       "      <td>1</td>\n",
       "      <td>1VNWaY3uNfoeWqb5U8x2QX</td>\n",
       "      <td>Lonely Day</td>\n",
       "      <td>2021-08-07T17:49:32.919Z</td>\n",
       "      <td>Verse 1 Daron Malakian Such a lonely day and i...</td>\n",
       "    </tr>\n",
       "    <tr>\n",
       "      <th>2</th>\n",
       "      <td>2</td>\n",
       "      <td>2DlHlPMa4M17kufBvI2lEN</td>\n",
       "      <td>Chop Suey!</td>\n",
       "      <td>2021-08-07T17:47:20.638Z</td>\n",
       "      <td>Intro Serj Tankian We re rolling Suicide Verse...</td>\n",
       "    </tr>\n",
       "    <tr>\n",
       "      <th>3</th>\n",
       "      <td>3</td>\n",
       "      <td>31RTFPrB7wmYBhlkM2ILXG</td>\n",
       "      <td>Sugar</td>\n",
       "      <td>2021-08-07T17:41:26.344Z</td>\n",
       "      <td>Chorus Serj Tankian amp Daron Malakian The Kom...</td>\n",
       "    </tr>\n",
       "    <tr>\n",
       "      <th>4</th>\n",
       "      <td>4</td>\n",
       "      <td>47EqCQZG5v4o0WFMufGf5S</td>\n",
       "      <td>Cigaro</td>\n",
       "      <td>2021-08-07T17:39:01.548Z</td>\n",
       "      <td>Intro Serj Tankian Whoah Verse 1 Serj Tankian ...</td>\n",
       "    </tr>\n",
       "  </tbody>\n",
       "</table>\n",
       "</div>"
      ],
      "text/plain": [
       "   Unnamed: 0                 song_id   song_name          date_time_played  \\\n",
       "0           0  1ByE7lUw6wWMTbCb3woHdK        Know  2021-08-07T17:57:43.867Z   \n",
       "1           1  1VNWaY3uNfoeWqb5U8x2QX  Lonely Day  2021-08-07T17:49:32.919Z   \n",
       "2           2  2DlHlPMa4M17kufBvI2lEN  Chop Suey!  2021-08-07T17:47:20.638Z   \n",
       "3           3  31RTFPrB7wmYBhlkM2ILXG       Sugar  2021-08-07T17:41:26.344Z   \n",
       "4           4  47EqCQZG5v4o0WFMufGf5S      Cigaro  2021-08-07T17:39:01.548Z   \n",
       "\n",
       "                                              lyrics  \n",
       "0  Intro Serj Tankian Cursed Earth Cursed Earth C...  \n",
       "1  Verse 1 Daron Malakian Such a lonely day and i...  \n",
       "2  Intro Serj Tankian We re rolling Suicide Verse...  \n",
       "3  Chorus Serj Tankian amp Daron Malakian The Kom...  \n",
       "4  Intro Serj Tankian Whoah Verse 1 Serj Tankian ...  "
      ]
     },
     "execution_count": 10,
     "metadata": {},
     "output_type": "execute_result"
    }
   ],
   "source": [
    "# Remove comma\n",
    "music_df['lyrics'] = music_df['lyrics'].apply(lambda x: \" \".join(x))\n",
    "music_df.head()"
   ]
  },
  {
   "cell_type": "markdown",
   "metadata": {},
   "source": [
    "### Stop Words"
   ]
  },
  {
   "cell_type": "code",
   "execution_count": 11,
   "metadata": {},
   "outputs": [
    {
     "name": "stderr",
     "output_type": "stream",
     "text": [
      "[nltk_data] Downloading package stopwords to /Users/pierre-\n",
      "[nltk_data]     olivierboisvert/nltk_data...\n",
      "[nltk_data]   Package stopwords is already up-to-date!\n"
     ]
    },
    {
     "data": {
      "text/plain": [
       "True"
      ]
     },
     "execution_count": 11,
     "metadata": {},
     "output_type": "execute_result"
    }
   ],
   "source": [
    "nltk.download('stopwords') #stopwords"
   ]
  },
  {
   "cell_type": "code",
   "execution_count": 12,
   "metadata": {},
   "outputs": [
    {
     "name": "stdout",
     "output_type": "stream",
     "text": [
      "{'didn', 'his', \"wouldn't\", 're', \"hasn't\", 'yourselves', 'am', 'after', 'herself', 'our', 'where', 'll', 'who', 'on', 'of', 'o', 'then', \"that'll\", \"weren't\", 'won', 'ma', 'she', 'when', 'those', 'between', 'if', 'ours', 'this', 'to', 'once', 'should', \"you'll\", \"haven't\", 'for', 'now', 'and', 'as', 'theirs', \"she's\", 'at', 'were', 'than', 'an', 'below', 's', \"mightn't\", 'yours', 'do', 'no', 'did', 'by', 'couldn', \"you'd\", 'both', 'her', \"don't\", 'more', 'so', 'same', 'until', 'too', 'shouldn', 'him', 'above', 'why', 'himself', 'hers', \"couldn't\", \"it's\", 'don', 'hadn', 'wouldn', 'been', 'but', 'some', 'in', 'm', 'needn', 'further', 'what', \"you've\", 'that', 'whom', 'up', 'itself', 'these', 'over', \"wasn't\", 'into', 'd', 'weren', 'during', 'because', 'had', 'through', 'shan', 'is', 'such', 'wasn', 'off', 'few', \"isn't\", 'was', 'me', 'haven', 'down', 'here', 'my', 'all', 'ain', 'your', 'about', \"you're\", 'again', 'the', 'ourselves', 'their', 'very', 't', 'how', 'them', \"doesn't\", 'we', 'mightn', 'from', 'yourself', 'it', 'its', 'not', 'just', 'against', 'before', 'you', \"aren't\", \"hadn't\", 'they', 'have', \"didn't\", 'other', \"shouldn't\", 'mustn', \"won't\", 'he', 'own', 'myself', 'a', 'doing', 'or', 've', 'under', 'there', 'aren', 'any', 'doesn', 'i', 'y', \"needn't\", 'with', 'isn', 'being', 'each', 'nor', 'will', \"shan't\", 'only', \"mustn't\", \"should've\", 'has', 'themselves', 'while', 'hasn', 'out', 'most', 'which', 'can', 'does', 'are', 'be', 'having'}\n"
     ]
    }
   ],
   "source": [
    "stop_words = set(stopwords.words('english'))\n",
    "print(stop_words)"
   ]
  },
  {
   "cell_type": "code",
   "execution_count": 13,
   "metadata": {},
   "outputs": [],
   "source": [
    "music_df.lyrics = music_df.lyrics.apply(lambda x: x.split(\" \"))"
   ]
  },
  {
   "cell_type": "code",
   "execution_count": 14,
   "metadata": {},
   "outputs": [],
   "source": [
    "def stop_words (data):\n",
    "    stop_words = set(stopwords.words('english'))\n",
    "    stop_words_list = []\n",
    "    for string in data:\n",
    "        if string not in stop_words:\n",
    "            stop_words_list.append(string)\n",
    "    return \" \".join(stop_words_list)"
   ]
  },
  {
   "cell_type": "code",
   "execution_count": 15,
   "metadata": {},
   "outputs": [
    {
     "data": {
      "text/html": [
       "<div>\n",
       "<style scoped>\n",
       "    .dataframe tbody tr th:only-of-type {\n",
       "        vertical-align: middle;\n",
       "    }\n",
       "\n",
       "    .dataframe tbody tr th {\n",
       "        vertical-align: top;\n",
       "    }\n",
       "\n",
       "    .dataframe thead th {\n",
       "        text-align: right;\n",
       "    }\n",
       "</style>\n",
       "<table border=\"1\" class=\"dataframe\">\n",
       "  <thead>\n",
       "    <tr style=\"text-align: right;\">\n",
       "      <th></th>\n",
       "      <th>Unnamed: 0</th>\n",
       "      <th>song_id</th>\n",
       "      <th>song_name</th>\n",
       "      <th>date_time_played</th>\n",
       "      <th>lyrics</th>\n",
       "    </tr>\n",
       "  </thead>\n",
       "  <tbody>\n",
       "    <tr>\n",
       "      <th>0</th>\n",
       "      <td>0</td>\n",
       "      <td>1ByE7lUw6wWMTbCb3woHdK</td>\n",
       "      <td>Know</td>\n",
       "      <td>2021-08-07T17:57:43.867Z</td>\n",
       "      <td>Intro Serj Tankian Cursed Earth Cursed Earth C...</td>\n",
       "    </tr>\n",
       "    <tr>\n",
       "      <th>1</th>\n",
       "      <td>1</td>\n",
       "      <td>1VNWaY3uNfoeWqb5U8x2QX</td>\n",
       "      <td>Lonely Day</td>\n",
       "      <td>2021-08-07T17:49:32.919Z</td>\n",
       "      <td>Verse 1 Daron Malakian Such lonely day mine Th...</td>\n",
       "    </tr>\n",
       "    <tr>\n",
       "      <th>2</th>\n",
       "      <td>2</td>\n",
       "      <td>2DlHlPMa4M17kufBvI2lEN</td>\n",
       "      <td>Chop Suey!</td>\n",
       "      <td>2021-08-07T17:47:20.638Z</td>\n",
       "      <td>Intro Serj Tankian We rolling Suicide Verse Se...</td>\n",
       "    </tr>\n",
       "    <tr>\n",
       "      <th>3</th>\n",
       "      <td>3</td>\n",
       "      <td>31RTFPrB7wmYBhlkM2ILXG</td>\n",
       "      <td>Sugar</td>\n",
       "      <td>2021-08-07T17:41:26.344Z</td>\n",
       "      <td>Chorus Serj Tankian amp Daron Malakian The Kom...</td>\n",
       "    </tr>\n",
       "    <tr>\n",
       "      <th>4</th>\n",
       "      <td>4</td>\n",
       "      <td>47EqCQZG5v4o0WFMufGf5S</td>\n",
       "      <td>Cigaro</td>\n",
       "      <td>2021-08-07T17:39:01.548Z</td>\n",
       "      <td>Intro Serj Tankian Whoah Verse 1 Serj Tankian ...</td>\n",
       "    </tr>\n",
       "  </tbody>\n",
       "</table>\n",
       "</div>"
      ],
      "text/plain": [
       "   Unnamed: 0                 song_id   song_name          date_time_played  \\\n",
       "0           0  1ByE7lUw6wWMTbCb3woHdK        Know  2021-08-07T17:57:43.867Z   \n",
       "1           1  1VNWaY3uNfoeWqb5U8x2QX  Lonely Day  2021-08-07T17:49:32.919Z   \n",
       "2           2  2DlHlPMa4M17kufBvI2lEN  Chop Suey!  2021-08-07T17:47:20.638Z   \n",
       "3           3  31RTFPrB7wmYBhlkM2ILXG       Sugar  2021-08-07T17:41:26.344Z   \n",
       "4           4  47EqCQZG5v4o0WFMufGf5S      Cigaro  2021-08-07T17:39:01.548Z   \n",
       "\n",
       "                                              lyrics  \n",
       "0  Intro Serj Tankian Cursed Earth Cursed Earth C...  \n",
       "1  Verse 1 Daron Malakian Such lonely day mine Th...  \n",
       "2  Intro Serj Tankian We rolling Suicide Verse Se...  \n",
       "3  Chorus Serj Tankian amp Daron Malakian The Kom...  \n",
       "4  Intro Serj Tankian Whoah Verse 1 Serj Tankian ...  "
      ]
     },
     "execution_count": 15,
     "metadata": {},
     "output_type": "execute_result"
    }
   ],
   "source": [
    "music_df.lyrics = music_df.lyrics.apply(stop_words)\n",
    "music_df.head()"
   ]
  },
  {
   "cell_type": "markdown",
   "metadata": {},
   "source": [
    "### Sentiment Analysis"
   ]
  },
  {
   "cell_type": "code",
   "execution_count": 16,
   "metadata": {},
   "outputs": [
    {
     "data": {
      "text/plain": [
       "Sentiment(polarity=0.5, subjectivity=0.6)"
      ]
     },
     "execution_count": 16,
     "metadata": {},
     "output_type": "execute_result"
    }
   ],
   "source": [
    "my_test = \"I love my wife\"\n",
    "blob = TextBlob(my_test)\n",
    "blob.sentiment"
   ]
  },
  {
   "cell_type": "code",
   "execution_count": 17,
   "metadata": {},
   "outputs": [
    {
     "name": "stderr",
     "output_type": "stream",
     "text": [
      "[nltk_data] Downloading package vader_lexicon to /Users/pierre-\n",
      "[nltk_data]     olivierboisvert/nltk_data...\n",
      "[nltk_data]   Package vader_lexicon is already up-to-date!\n"
     ]
    },
    {
     "data": {
      "text/plain": [
       "True"
      ]
     },
     "execution_count": 17,
     "metadata": {},
     "output_type": "execute_result"
    }
   ],
   "source": [
    "nltk.download('vader_lexicon')"
   ]
  },
  {
   "cell_type": "code",
   "execution_count": 18,
   "metadata": {},
   "outputs": [
    {
     "data": {
      "text/plain": [
       "{'neg': 0.0, 'neu': 0.323, 'pos': 0.677, 'compound': 0.6369}"
      ]
     },
     "execution_count": 18,
     "metadata": {},
     "output_type": "execute_result"
    }
   ],
   "source": [
    "intAnalyser = SentimentIntensityAnalyzer()\n",
    "polarity = intAnalyser.polarity_scores(my_test)\n",
    "polarity"
   ]
  },
  {
   "cell_type": "code",
   "execution_count": 19,
   "metadata": {},
   "outputs": [],
   "source": [
    "def sentimentScore(sentence):\n",
    "    sia = SentimentIntensityAnalyzer()\n",
    "    polarity = sia.polarity_scores(sentence)\n",
    "    pol = polarity['compound']\n",
    "    return pol"
   ]
  },
  {
   "cell_type": "code",
   "execution_count": 20,
   "metadata": {},
   "outputs": [
    {
     "data": {
      "text/html": [
       "<div>\n",
       "<style scoped>\n",
       "    .dataframe tbody tr th:only-of-type {\n",
       "        vertical-align: middle;\n",
       "    }\n",
       "\n",
       "    .dataframe tbody tr th {\n",
       "        vertical-align: top;\n",
       "    }\n",
       "\n",
       "    .dataframe thead th {\n",
       "        text-align: right;\n",
       "    }\n",
       "</style>\n",
       "<table border=\"1\" class=\"dataframe\">\n",
       "  <thead>\n",
       "    <tr style=\"text-align: right;\">\n",
       "      <th></th>\n",
       "      <th>Unnamed: 0</th>\n",
       "      <th>song_id</th>\n",
       "      <th>song_name</th>\n",
       "      <th>date_time_played</th>\n",
       "      <th>lyrics</th>\n",
       "      <th>sentiment_compound</th>\n",
       "    </tr>\n",
       "  </thead>\n",
       "  <tbody>\n",
       "    <tr>\n",
       "      <th>0</th>\n",
       "      <td>0</td>\n",
       "      <td>1ByE7lUw6wWMTbCb3woHdK</td>\n",
       "      <td>Know</td>\n",
       "      <td>2021-08-07T17:57:43.867Z</td>\n",
       "      <td>Intro Serj Tankian Cursed Earth Cursed Earth C...</td>\n",
       "      <td>-0.9870</td>\n",
       "    </tr>\n",
       "    <tr>\n",
       "      <th>1</th>\n",
       "      <td>1</td>\n",
       "      <td>1VNWaY3uNfoeWqb5U8x2QX</td>\n",
       "      <td>Lonely Day</td>\n",
       "      <td>2021-08-07T17:49:32.919Z</td>\n",
       "      <td>Verse 1 Daron Malakian Such lonely day mine Th...</td>\n",
       "      <td>-0.9902</td>\n",
       "    </tr>\n",
       "    <tr>\n",
       "      <th>2</th>\n",
       "      <td>2</td>\n",
       "      <td>2DlHlPMa4M17kufBvI2lEN</td>\n",
       "      <td>Chop Suey!</td>\n",
       "      <td>2021-08-07T17:47:20.638Z</td>\n",
       "      <td>Intro Serj Tankian We rolling Suicide Verse Se...</td>\n",
       "      <td>-0.9948</td>\n",
       "    </tr>\n",
       "    <tr>\n",
       "      <th>3</th>\n",
       "      <td>3</td>\n",
       "      <td>31RTFPrB7wmYBhlkM2ILXG</td>\n",
       "      <td>Sugar</td>\n",
       "      <td>2021-08-07T17:41:26.344Z</td>\n",
       "      <td>Chorus Serj Tankian amp Daron Malakian The Kom...</td>\n",
       "      <td>-0.8363</td>\n",
       "    </tr>\n",
       "    <tr>\n",
       "      <th>4</th>\n",
       "      <td>4</td>\n",
       "      <td>47EqCQZG5v4o0WFMufGf5S</td>\n",
       "      <td>Cigaro</td>\n",
       "      <td>2021-08-07T17:39:01.548Z</td>\n",
       "      <td>Intro Serj Tankian Whoah Verse 1 Serj Tankian ...</td>\n",
       "      <td>-0.9758</td>\n",
       "    </tr>\n",
       "  </tbody>\n",
       "</table>\n",
       "</div>"
      ],
      "text/plain": [
       "   Unnamed: 0                 song_id   song_name          date_time_played  \\\n",
       "0           0  1ByE7lUw6wWMTbCb3woHdK        Know  2021-08-07T17:57:43.867Z   \n",
       "1           1  1VNWaY3uNfoeWqb5U8x2QX  Lonely Day  2021-08-07T17:49:32.919Z   \n",
       "2           2  2DlHlPMa4M17kufBvI2lEN  Chop Suey!  2021-08-07T17:47:20.638Z   \n",
       "3           3  31RTFPrB7wmYBhlkM2ILXG       Sugar  2021-08-07T17:41:26.344Z   \n",
       "4           4  47EqCQZG5v4o0WFMufGf5S      Cigaro  2021-08-07T17:39:01.548Z   \n",
       "\n",
       "                                              lyrics  sentiment_compound  \n",
       "0  Intro Serj Tankian Cursed Earth Cursed Earth C...             -0.9870  \n",
       "1  Verse 1 Daron Malakian Such lonely day mine Th...             -0.9902  \n",
       "2  Intro Serj Tankian We rolling Suicide Verse Se...             -0.9948  \n",
       "3  Chorus Serj Tankian amp Daron Malakian The Kom...             -0.8363  \n",
       "4  Intro Serj Tankian Whoah Verse 1 Serj Tankian ...             -0.9758  "
      ]
     },
     "execution_count": 20,
     "metadata": {},
     "output_type": "execute_result"
    }
   ],
   "source": [
    "music_df['sentiment_compound'] = music_df.lyrics.apply(sentimentScore)\n",
    "music_df.head()"
   ]
  },
  {
   "cell_type": "markdown",
   "metadata": {},
   "source": [
    "### Visualization"
   ]
  },
  {
   "cell_type": "code",
   "execution_count": 21,
   "metadata": {},
   "outputs": [
    {
     "data": {
      "text/plain": [
       "Window Shopper                                2\n",
       "Red Nation                                    2\n",
       "Lonely Day                                    1\n",
       "The Gangsta, The Killa And The Dope Dealer    1\n",
       "Sugar                                         1\n",
       "ZTFO                                          1\n",
       "For Whom The Bell Tolls (Remastered)          1\n",
       "Cigaro                                        1\n",
       "Haute (feat. J Balvin & Chris Brown)          1\n",
       "Rap Saved Me                                  1\n",
       "The Unforgiven II                             1\n",
       "Aerials                                       1\n",
       "Chop Suey!                                    1\n",
       "Mark - Emr3ygul Remix                         1\n",
       "Gangsta's Paradise                            1\n",
       "When It Rains It Pours                        1\n",
       "8 Mile                                        1\n",
       "Life Is Good (feat. Drake)                    1\n",
       "Still Strugglin'                              1\n",
       "The Memory Remains                            1\n",
       "Know                                          1\n",
       "Ackrite                                       1\n",
       "Shake That (Remix)                            1\n",
       "Name: song_name, dtype: int64"
      ]
     },
     "execution_count": 21,
     "metadata": {},
     "output_type": "execute_result"
    }
   ],
   "source": [
    "music_df.song_name.value_counts()"
   ]
  },
  {
   "cell_type": "code",
   "execution_count": 22,
   "metadata": {},
   "outputs": [
    {
     "data": {
      "text/plain": [
       "song_name\n",
       "Shake That (Remix)                           -0.9976\n",
       "Chop Suey!                                   -0.9948\n",
       "Red Nation                                   -0.9938\n",
       "Lonely Day                                   -0.9902\n",
       "ZTFO                                         -0.9879\n",
       "Know                                         -0.9870\n",
       "Ackrite                                      -0.9851\n",
       "Cigaro                                       -0.9758\n",
       "The Unforgiven II                            -0.9621\n",
       "Life Is Good (feat. Drake)                   -0.9231\n",
       "Sugar                                        -0.8363\n",
       "The Memory Remains                           -0.0562\n",
       "Rap Saved Me                                 -0.0516\n",
       "When It Rains It Pours                        0.0000\n",
       "Still Strugglin'                              0.0000\n",
       "8 Mile                                        0.0000\n",
       "For Whom The Bell Tolls (Remastered)          0.0000\n",
       "Window Shopper                                0.0000\n",
       "The Gangsta, The Killa And The Dope Dealer    0.8809\n",
       "Haute (feat. J Balvin & Chris Brown)          0.9169\n",
       "Aerials                                       0.9300\n",
       "Gangsta's Paradise                            0.9683\n",
       "Mark - Emr3ygul Remix                         0.9799\n",
       "Name: sentiment_compound, dtype: float64"
      ]
     },
     "execution_count": 22,
     "metadata": {},
     "output_type": "execute_result"
    }
   ],
   "source": [
    "music_sent = music_df.groupby(['song_name'])['sentiment_compound'].mean().sort_values()\n",
    "music_sent"
   ]
  },
  {
   "cell_type": "code",
   "execution_count": 23,
   "metadata": {},
   "outputs": [
    {
     "data": {
      "text/plain": [
       "<AxesSubplot:xlabel='song_name'>"
      ]
     },
     "execution_count": 23,
     "metadata": {},
     "output_type": "execute_result"
    },
    {
     "data": {
      "image/png": "[encoded data removed]",
      "text/plain": [
       "<Figure size 432x288 with 1 Axes>"
      ]
     },
     "metadata": {
      "needs_background": "light"
     },
     "output_type": "display_data"
    }
   ],
   "source": [
    "music_sent.plot(kind=\"bar\")"
   ]
  },
  {
   "cell_type": "code",
   "execution_count": null,
   "metadata": {},
   "outputs": [],
   "source": []
  }
 ],
 "metadata": {
  "kernelspec": {
   "display_name": "mlenv",
   "language": "python",
   "name": "mlenv"
  },
  "language_info": {
   "codemirror_mode": {
    "name": "ipython",
    "version": 3
   },
   "file_extension": ".py",
   "mimetype": "text/x-python",
   "name": "python",
   "nbconvert_exporter": "python",
   "pygments_lexer": "ipython3",
   "version": "3.7.9"
  }
 },
 "nbformat": 4,
 "nbformat_minor": 4
}
