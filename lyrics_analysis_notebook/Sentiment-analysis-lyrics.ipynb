{
 "cells": [
  {
   "cell_type": "markdown",
   "metadata": {},
   "source": [
    "### Dependencies"
   ]
  },
  {
   "cell_type": "code",
   "execution_count": 1,
   "metadata": {},
   "outputs": [],
   "source": [
    "import pandas as pd\n",
    "\n",
    "# Regex\n",
    "import re\n",
    "\n",
    "# NLTK\n",
    "import nltk\n",
    "from nltk.sentiment.vader import SentimentIntensityAnalyzer\n",
    "from nltk.tokenize import RegexpTokenizer\n",
    "from nltk.corpus import stopwords\n",
    "\n",
    "# TextBlob\n",
    "from textblob import TextBlob\n",
    "\n",
    "from langdetect import detect"
   ]
  },
  {
   "cell_type": "code",
   "execution_count": null,
   "metadata": {},
   "outputs": [],
   "source": [
    "# Import"
   ]
  },
  {
   "cell_type": "code",
   "execution_count": 73,
   "metadata": {},
   "outputs": [
    {
     "data": {
      "text/html": [
       "<div>\n",
       "<style scoped>\n",
       "    .dataframe tbody tr th:only-of-type {\n",
       "        vertical-align: middle;\n",
       "    }\n",
       "\n",
       "    .dataframe tbody tr th {\n",
       "        vertical-align: top;\n",
       "    }\n",
       "\n",
       "    .dataframe thead th {\n",
       "        text-align: right;\n",
       "    }\n",
       "</style>\n",
       "<table border=\"1\" class=\"dataframe\">\n",
       "  <thead>\n",
       "    <tr style=\"text-align: right;\">\n",
       "      <th></th>\n",
       "      <th>Unnamed: 0</th>\n",
       "      <th>song_id</th>\n",
       "      <th>song_name</th>\n",
       "      <th>date_time_played</th>\n",
       "      <th>lyrics</th>\n",
       "    </tr>\n",
       "  </thead>\n",
       "  <tbody>\n",
       "    <tr>\n",
       "      <th>0</th>\n",
       "      <td>0</td>\n",
       "      <td>3djNBlI7xOggg7pnsOLaNm</td>\n",
       "      <td>California Love - Original Version</td>\n",
       "      <td>2021-07-20T00:09:02.707Z</td>\n",
       "      <td>Chorus: Roger Troutman\\nCalifornia love\\nCalif...</td>\n",
       "    </tr>\n",
       "    <tr>\n",
       "      <th>1</th>\n",
       "      <td>1</td>\n",
       "      <td>1yNOoF6ctpmTL331UO4Alj</td>\n",
       "      <td>2 Of Amerikaz Most Wanted</td>\n",
       "      <td>2021-07-19T22:43:09.655Z</td>\n",
       "      <td>Intro: 2Pac &amp; Snoop Doggy Dogg\\nUp out of ther...</td>\n",
       "    </tr>\n",
       "    <tr>\n",
       "      <th>2</th>\n",
       "      <td>2</td>\n",
       "      <td>1yNOoF6ctpmTL331UO4Alj</td>\n",
       "      <td>2 Of Amerikaz Most Wanted</td>\n",
       "      <td>2021-07-19T21:19:11.977Z</td>\n",
       "      <td>Intro: 2Pac &amp; Snoop Doggy Dogg\\nUp out of ther...</td>\n",
       "    </tr>\n",
       "    <tr>\n",
       "      <th>3</th>\n",
       "      <td>3</td>\n",
       "      <td>6EZ9qFWLbRudnQdVA5hQRJ</td>\n",
       "      <td>Elephant</td>\n",
       "      <td>2021-07-19T16:08:32.085Z</td>\n",
       "      <td>Couldn't get lyrics for Elephant by Domastic.\\n</td>\n",
       "    </tr>\n",
       "    <tr>\n",
       "      <th>4</th>\n",
       "      <td>4</td>\n",
       "      <td>56I4OIGTDhBmX8ZSJJDf1k</td>\n",
       "      <td>All I Need</td>\n",
       "      <td>2021-07-19T15:44:09.267Z</td>\n",
       "      <td>Intro\\nMore time and more mind\\n\\nChorus\\nGive...</td>\n",
       "    </tr>\n",
       "  </tbody>\n",
       "</table>\n",
       "</div>"
      ],
      "text/plain": [
       "   Unnamed: 0                 song_id                           song_name  \\\n",
       "0           0  3djNBlI7xOggg7pnsOLaNm  California Love - Original Version   \n",
       "1           1  1yNOoF6ctpmTL331UO4Alj           2 Of Amerikaz Most Wanted   \n",
       "2           2  1yNOoF6ctpmTL331UO4Alj           2 Of Amerikaz Most Wanted   \n",
       "3           3  6EZ9qFWLbRudnQdVA5hQRJ                            Elephant   \n",
       "4           4  56I4OIGTDhBmX8ZSJJDf1k                          All I Need   \n",
       "\n",
       "           date_time_played                                             lyrics  \n",
       "0  2021-07-20T00:09:02.707Z  Chorus: Roger Troutman\\nCalifornia love\\nCalif...  \n",
       "1  2021-07-19T22:43:09.655Z  Intro: 2Pac & Snoop Doggy Dogg\\nUp out of ther...  \n",
       "2  2021-07-19T21:19:11.977Z  Intro: 2Pac & Snoop Doggy Dogg\\nUp out of ther...  \n",
       "3  2021-07-19T16:08:32.085Z    Couldn't get lyrics for Elephant by Domastic.\\n  \n",
       "4  2021-07-19T15:44:09.267Z  Intro\\nMore time and more mind\\n\\nChorus\\nGive...  "
      ]
     },
     "execution_count": 73,
     "metadata": {},
     "output_type": "execute_result"
    }
   ],
   "source": [
    "music_df = pd.read_csv(\"../api/data/lyrics_etl.csv\")\n",
    "music_df.head()"
   ]
  },
  {
   "cell_type": "markdown",
   "metadata": {},
   "source": [
    "### Regex Cleaning"
   ]
  },
  {
   "cell_type": "code",
   "execution_count": 75,
   "metadata": {},
   "outputs": [],
   "source": [
    "def html_cleaner (string):\n",
    "    html_cleaner = re.sub(r'\\n', \" \", string)\n",
    "    return html_cleaner"
   ]
  },
  {
   "cell_type": "code",
   "execution_count": 76,
   "metadata": {},
   "outputs": [
    {
     "data": {
      "text/html": [
       "<div>\n",
       "<style scoped>\n",
       "    .dataframe tbody tr th:only-of-type {\n",
       "        vertical-align: middle;\n",
       "    }\n",
       "\n",
       "    .dataframe tbody tr th {\n",
       "        vertical-align: top;\n",
       "    }\n",
       "\n",
       "    .dataframe thead th {\n",
       "        text-align: right;\n",
       "    }\n",
       "</style>\n",
       "<table border=\"1\" class=\"dataframe\">\n",
       "  <thead>\n",
       "    <tr style=\"text-align: right;\">\n",
       "      <th></th>\n",
       "      <th>Unnamed: 0</th>\n",
       "      <th>song_id</th>\n",
       "      <th>song_name</th>\n",
       "      <th>date_time_played</th>\n",
       "      <th>lyrics</th>\n",
       "    </tr>\n",
       "  </thead>\n",
       "  <tbody>\n",
       "    <tr>\n",
       "      <th>0</th>\n",
       "      <td>0</td>\n",
       "      <td>3djNBlI7xOggg7pnsOLaNm</td>\n",
       "      <td>California Love - Original Version</td>\n",
       "      <td>2021-07-20T00:09:02.707Z</td>\n",
       "      <td>Chorus: Roger Troutman California love Califor...</td>\n",
       "    </tr>\n",
       "    <tr>\n",
       "      <th>1</th>\n",
       "      <td>1</td>\n",
       "      <td>1yNOoF6ctpmTL331UO4Alj</td>\n",
       "      <td>2 Of Amerikaz Most Wanted</td>\n",
       "      <td>2021-07-19T22:43:09.655Z</td>\n",
       "      <td>Intro: 2Pac &amp; Snoop Doggy Dogg Up out of there...</td>\n",
       "    </tr>\n",
       "    <tr>\n",
       "      <th>2</th>\n",
       "      <td>2</td>\n",
       "      <td>1yNOoF6ctpmTL331UO4Alj</td>\n",
       "      <td>2 Of Amerikaz Most Wanted</td>\n",
       "      <td>2021-07-19T21:19:11.977Z</td>\n",
       "      <td>Intro: 2Pac &amp; Snoop Doggy Dogg Up out of there...</td>\n",
       "    </tr>\n",
       "    <tr>\n",
       "      <th>3</th>\n",
       "      <td>3</td>\n",
       "      <td>6EZ9qFWLbRudnQdVA5hQRJ</td>\n",
       "      <td>Elephant</td>\n",
       "      <td>2021-07-19T16:08:32.085Z</td>\n",
       "      <td>Couldn't get lyrics for Elephant by Domastic.</td>\n",
       "    </tr>\n",
       "    <tr>\n",
       "      <th>4</th>\n",
       "      <td>4</td>\n",
       "      <td>56I4OIGTDhBmX8ZSJJDf1k</td>\n",
       "      <td>All I Need</td>\n",
       "      <td>2021-07-19T15:44:09.267Z</td>\n",
       "      <td>Intro More time and more mind  Chorus Give me ...</td>\n",
       "    </tr>\n",
       "  </tbody>\n",
       "</table>\n",
       "</div>"
      ],
      "text/plain": [
       "   Unnamed: 0                 song_id                           song_name  \\\n",
       "0           0  3djNBlI7xOggg7pnsOLaNm  California Love - Original Version   \n",
       "1           1  1yNOoF6ctpmTL331UO4Alj           2 Of Amerikaz Most Wanted   \n",
       "2           2  1yNOoF6ctpmTL331UO4Alj           2 Of Amerikaz Most Wanted   \n",
       "3           3  6EZ9qFWLbRudnQdVA5hQRJ                            Elephant   \n",
       "4           4  56I4OIGTDhBmX8ZSJJDf1k                          All I Need   \n",
       "\n",
       "           date_time_played                                             lyrics  \n",
       "0  2021-07-20T00:09:02.707Z  Chorus: Roger Troutman California love Califor...  \n",
       "1  2021-07-19T22:43:09.655Z  Intro: 2Pac & Snoop Doggy Dogg Up out of there...  \n",
       "2  2021-07-19T21:19:11.977Z  Intro: 2Pac & Snoop Doggy Dogg Up out of there...  \n",
       "3  2021-07-19T16:08:32.085Z     Couldn't get lyrics for Elephant by Domastic.   \n",
       "4  2021-07-19T15:44:09.267Z  Intro More time and more mind  Chorus Give me ...  "
      ]
     },
     "execution_count": 76,
     "metadata": {},
     "output_type": "execute_result"
    }
   ],
   "source": [
    "music_df['lyrics'] = music_df.lyrics.apply(html_cleaner)\n",
    "music_df.head()"
   ]
  },
  {
   "cell_type": "markdown",
   "metadata": {},
   "source": [
    "### Stop words"
   ]
  },
  {
   "cell_type": "code",
   "execution_count": 77,
   "metadata": {},
   "outputs": [
    {
     "name": "stderr",
     "output_type": "stream",
     "text": [
      "[nltk_data] Downloading package stopwords to /Users/pierre-\n",
      "[nltk_data]     olivierboisvert/nltk_data...\n",
      "[nltk_data]   Unzipping corpora/stopwords.zip.\n"
     ]
    },
    {
     "data": {
      "text/plain": [
       "True"
      ]
     },
     "execution_count": 77,
     "metadata": {},
     "output_type": "execute_result"
    }
   ],
   "source": [
    "nltk.download('stopwords') "
   ]
  },
  {
   "cell_type": "code",
   "execution_count": 78,
   "metadata": {},
   "outputs": [
    {
     "name": "stdout",
     "output_type": "stream",
     "text": [
      "{'under', \"you're\", 'won', 'ours', 'it', 'whom', 'm', \"hasn't\", 'you', 'to', 'o', 'needn', \"weren't\", 'were', 'few', \"don't\", 'themselves', 'yourselves', 'that', 'being', 'i', 'there', \"needn't\", 'then', 'again', 'because', 'his', 'yours', 'this', 'was', 'below', 'an', 'does', 'here', 'had', 'so', 'above', 'over', 'ain', \"shouldn't\", 'will', 'what', 'haven', 'but', 'with', 'for', 'isn', 'my', 'while', 'hadn', 'both', 'from', 'against', \"wouldn't\", 'been', \"hadn't\", 'into', 'she', 'shan', 'by', 'doing', 'them', 'more', \"couldn't\", 'most', 'down', 'ourselves', 'on', 'those', 'during', 'doesn', 'himself', 'any', 'him', 's', 'of', \"didn't\", 'which', 'until', \"doesn't\", 'are', 'is', 'has', \"you've\", 'other', 'who', 'not', 'own', 'after', 'why', \"you'll\", 'in', 'no', 'your', 've', \"haven't\", 'aren', \"mustn't\", 'yourself', 'just', 'do', 'weren', 'they', \"it's\", 'our', 'between', 'couldn', 'can', 'didn', 'd', 'wasn', 'myself', 'her', 'am', 'such', 'don', \"should've\", 'we', 're', 'these', 'mustn', 'now', 'its', 'itself', 'through', 'off', 'he', 'nor', 'each', \"wasn't\", 'up', 't', \"that'll\", \"shan't\", 'did', 'how', 'further', 'too', 'should', 'only', 'same', 'theirs', 'about', \"you'd\", 'me', 'll', \"she's\", 'having', 'some', \"mightn't\", 'wouldn', \"won't\", 'before', 'y', 'than', 'out', 'if', 'as', 'shouldn', 'at', \"isn't\", 'a', \"aren't\", 'their', 'or', 'mightn', 'once', 'hers', 'when', 'where', 'ma', 'very', 'be', 'hasn', 'herself', 'the', 'have', 'all', 'and'}\n"
     ]
    }
   ],
   "source": [
    "stop_words = set(stopwords.words('english'))\n",
    "print(stop_words)"
   ]
  },
  {
   "cell_type": "code",
   "execution_count": null,
   "metadata": {},
   "outputs": [],
   "source": []
  }
 ],
 "metadata": {
  "kernelspec": {
   "display_name": "PythonData",
   "language": "python",
   "name": "pythondata"
  },
  "language_info": {
   "codemirror_mode": {
    "name": "ipython",
    "version": 3
   },
   "file_extension": ".py",
   "mimetype": "text/x-python",
   "name": "python",
   "nbconvert_exporter": "python",
   "pygments_lexer": "ipython3",
   "version": "3.9.4"
  }
 },
 "nbformat": 4,
 "nbformat_minor": 4
}
