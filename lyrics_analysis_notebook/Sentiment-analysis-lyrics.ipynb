{
 "cells": [
  {
   "cell_type": "markdown",
   "metadata": {},
   "source": [
    "### Dependencies"
   ]
  },
  {
   "cell_type": "code",
   "execution_count": 1,
   "metadata": {},
   "outputs": [],
   "source": [
    "#!pip install tensorflow"
   ]
  },
  {
   "cell_type": "code",
   "execution_count": 2,
   "metadata": {},
   "outputs": [
    {
     "name": "stdout",
     "output_type": "stream",
     "text": [
      "2.4.1\n"
     ]
    }
   ],
   "source": [
    "import pandas as pd\n",
    "import numpy as np\n",
    "import sys\n",
    "import warnings\n",
    "\n",
    "# Regex\n",
    "import re\n",
    "\n",
    "# NLTK\n",
    "import nltk\n",
    "from nltk.sentiment.vader import SentimentIntensityAnalyzer\n",
    "from nltk.tokenize import RegexpTokenizer\n",
    "from nltk.corpus import stopwords\n",
    "\n",
    "# TextBlob\n",
    "from textblob import TextBlob\n",
    "\n",
    "import tensorflow as tf\n",
    "from tensorflow.keras import datasets, preprocessing, models, layers,regularizers\n",
    "\n",
    "if not sys.warnoptions:\n",
    "    warnings.simplefilter(\"ignore\")\n",
    "\n",
    "print(tf.__version__)"
   ]
  },
  {
   "cell_type": "code",
   "execution_count": 3,
   "metadata": {},
   "outputs": [],
   "source": [
    "# Import"
   ]
  },
  {
   "cell_type": "code",
   "execution_count": 4,
   "metadata": {},
   "outputs": [
    {
     "data": {
      "text/html": [
       "<div>\n",
       "<style scoped>\n",
       "    .dataframe tbody tr th:only-of-type {\n",
       "        vertical-align: middle;\n",
       "    }\n",
       "\n",
       "    .dataframe tbody tr th {\n",
       "        vertical-align: top;\n",
       "    }\n",
       "\n",
       "    .dataframe thead th {\n",
       "        text-align: right;\n",
       "    }\n",
       "</style>\n",
       "<table border=\"1\" class=\"dataframe\">\n",
       "  <thead>\n",
       "    <tr style=\"text-align: right;\">\n",
       "      <th></th>\n",
       "      <th>Unnamed: 0</th>\n",
       "      <th>song_id</th>\n",
       "      <th>song_name</th>\n",
       "      <th>date_time_played</th>\n",
       "      <th>lyrics</th>\n",
       "    </tr>\n",
       "  </thead>\n",
       "  <tbody>\n",
       "    <tr>\n",
       "      <th>0</th>\n",
       "      <td>0</td>\n",
       "      <td>42YNobZ4HN3tRVEA47wLT6</td>\n",
       "      <td>When I'm Gone</td>\n",
       "      <td>2021-08-03T13:13:20.649Z</td>\n",
       "      <td>Intro\\nYeah, it's my life\\nIn my own words, I ...</td>\n",
       "    </tr>\n",
       "    <tr>\n",
       "      <th>1</th>\n",
       "      <td>1</td>\n",
       "      <td>1jlnBQGP2DtSEhMgQaz7a7</td>\n",
       "      <td>Haute (feat. J Balvin &amp; Chris Brown)</td>\n",
       "      <td>2021-08-03T12:58:47.598Z</td>\n",
       "      <td>Intro: Tyga\\nMake it hot, yeah\\nMake it hot\\n\\...</td>\n",
       "    </tr>\n",
       "    <tr>\n",
       "      <th>2</th>\n",
       "      <td>2</td>\n",
       "      <td>1PS1QMdUqOal0ai3Gt7sDQ</td>\n",
       "      <td>Gold Digger</td>\n",
       "      <td>2021-08-03T11:16:59.439Z</td>\n",
       "      <td>Produced by Kanye West and Jon Brion\\n\\nIntro:...</td>\n",
       "    </tr>\n",
       "    <tr>\n",
       "      <th>3</th>\n",
       "      <td>3</td>\n",
       "      <td>35RJhm1pEovTBwnNR0zWad</td>\n",
       "      <td>GREECE (feat. Drake)</td>\n",
       "      <td>2021-08-03T03:33:19.241Z</td>\n",
       "      <td>Intro: DJ Khaled\\nWe The Best Music\\nAnother o...</td>\n",
       "    </tr>\n",
       "    <tr>\n",
       "      <th>4</th>\n",
       "      <td>4</td>\n",
       "      <td>3keUgTGEoZJt0QkzTB6kHg</td>\n",
       "      <td>Truffle Butter</td>\n",
       "      <td>2021-08-03T03:29:39.523Z</td>\n",
       "      <td>Chorus: Maya Jane Coles\\nYou know, don't you?\\...</td>\n",
       "    </tr>\n",
       "  </tbody>\n",
       "</table>\n",
       "</div>"
      ],
      "text/plain": [
       "   Unnamed: 0                 song_id                             song_name  \\\n",
       "0           0  42YNobZ4HN3tRVEA47wLT6                         When I'm Gone   \n",
       "1           1  1jlnBQGP2DtSEhMgQaz7a7  Haute (feat. J Balvin & Chris Brown)   \n",
       "2           2  1PS1QMdUqOal0ai3Gt7sDQ                           Gold Digger   \n",
       "3           3  35RJhm1pEovTBwnNR0zWad                  GREECE (feat. Drake)   \n",
       "4           4  3keUgTGEoZJt0QkzTB6kHg                        Truffle Butter   \n",
       "\n",
       "           date_time_played                                             lyrics  \n",
       "0  2021-08-03T13:13:20.649Z  Intro\\nYeah, it's my life\\nIn my own words, I ...  \n",
       "1  2021-08-03T12:58:47.598Z  Intro: Tyga\\nMake it hot, yeah\\nMake it hot\\n\\...  \n",
       "2  2021-08-03T11:16:59.439Z  Produced by Kanye West and Jon Brion\\n\\nIntro:...  \n",
       "3  2021-08-03T03:33:19.241Z  Intro: DJ Khaled\\nWe The Best Music\\nAnother o...  \n",
       "4  2021-08-03T03:29:39.523Z  Chorus: Maya Jane Coles\\nYou know, don't you?\\...  "
      ]
     },
     "execution_count": 4,
     "metadata": {},
     "output_type": "execute_result"
    }
   ],
   "source": [
    "music_df = pd.read_csv(\"../api/data/lyrics_etl.csv\")\n",
    "music_df.head()"
   ]
  },
  {
   "cell_type": "markdown",
   "metadata": {},
   "source": [
    "### Regex Cleaning"
   ]
  },
  {
   "cell_type": "code",
   "execution_count": 5,
   "metadata": {},
   "outputs": [],
   "source": [
    "def html_cleaner (string):\n",
    "    html_cleaner = re.sub(r'\\n', \" \", string)\n",
    "    return html_cleaner"
   ]
  },
  {
   "cell_type": "code",
   "execution_count": 6,
   "metadata": {},
   "outputs": [
    {
     "data": {
      "text/html": [
       "<div>\n",
       "<style scoped>\n",
       "    .dataframe tbody tr th:only-of-type {\n",
       "        vertical-align: middle;\n",
       "    }\n",
       "\n",
       "    .dataframe tbody tr th {\n",
       "        vertical-align: top;\n",
       "    }\n",
       "\n",
       "    .dataframe thead th {\n",
       "        text-align: right;\n",
       "    }\n",
       "</style>\n",
       "<table border=\"1\" class=\"dataframe\">\n",
       "  <thead>\n",
       "    <tr style=\"text-align: right;\">\n",
       "      <th></th>\n",
       "      <th>Unnamed: 0</th>\n",
       "      <th>song_id</th>\n",
       "      <th>song_name</th>\n",
       "      <th>date_time_played</th>\n",
       "      <th>lyrics</th>\n",
       "    </tr>\n",
       "  </thead>\n",
       "  <tbody>\n",
       "    <tr>\n",
       "      <th>0</th>\n",
       "      <td>0</td>\n",
       "      <td>42YNobZ4HN3tRVEA47wLT6</td>\n",
       "      <td>When I'm Gone</td>\n",
       "      <td>2021-08-03T13:13:20.649Z</td>\n",
       "      <td>Intro Yeah, it's my life In my own words, I gu...</td>\n",
       "    </tr>\n",
       "    <tr>\n",
       "      <th>1</th>\n",
       "      <td>1</td>\n",
       "      <td>1jlnBQGP2DtSEhMgQaz7a7</td>\n",
       "      <td>Haute (feat. J Balvin &amp; Chris Brown)</td>\n",
       "      <td>2021-08-03T12:58:47.598Z</td>\n",
       "      <td>Intro: Tyga Make it hot, yeah Make it hot  Ver...</td>\n",
       "    </tr>\n",
       "    <tr>\n",
       "      <th>2</th>\n",
       "      <td>2</td>\n",
       "      <td>1PS1QMdUqOal0ai3Gt7sDQ</td>\n",
       "      <td>Gold Digger</td>\n",
       "      <td>2021-08-03T11:16:59.439Z</td>\n",
       "      <td>Produced by Kanye West and Jon Brion  Intro: J...</td>\n",
       "    </tr>\n",
       "    <tr>\n",
       "      <th>3</th>\n",
       "      <td>3</td>\n",
       "      <td>35RJhm1pEovTBwnNR0zWad</td>\n",
       "      <td>GREECE (feat. Drake)</td>\n",
       "      <td>2021-08-03T03:33:19.241Z</td>\n",
       "      <td>Intro: DJ Khaled We The Best Music Another one...</td>\n",
       "    </tr>\n",
       "    <tr>\n",
       "      <th>4</th>\n",
       "      <td>4</td>\n",
       "      <td>3keUgTGEoZJt0QkzTB6kHg</td>\n",
       "      <td>Truffle Butter</td>\n",
       "      <td>2021-08-03T03:29:39.523Z</td>\n",
       "      <td>Chorus: Maya Jane Coles You know, don't you? Y...</td>\n",
       "    </tr>\n",
       "  </tbody>\n",
       "</table>\n",
       "</div>"
      ],
      "text/plain": [
       "   Unnamed: 0                 song_id                             song_name  \\\n",
       "0           0  42YNobZ4HN3tRVEA47wLT6                         When I'm Gone   \n",
       "1           1  1jlnBQGP2DtSEhMgQaz7a7  Haute (feat. J Balvin & Chris Brown)   \n",
       "2           2  1PS1QMdUqOal0ai3Gt7sDQ                           Gold Digger   \n",
       "3           3  35RJhm1pEovTBwnNR0zWad                  GREECE (feat. Drake)   \n",
       "4           4  3keUgTGEoZJt0QkzTB6kHg                        Truffle Butter   \n",
       "\n",
       "           date_time_played                                             lyrics  \n",
       "0  2021-08-03T13:13:20.649Z  Intro Yeah, it's my life In my own words, I gu...  \n",
       "1  2021-08-03T12:58:47.598Z  Intro: Tyga Make it hot, yeah Make it hot  Ver...  \n",
       "2  2021-08-03T11:16:59.439Z  Produced by Kanye West and Jon Brion  Intro: J...  \n",
       "3  2021-08-03T03:33:19.241Z  Intro: DJ Khaled We The Best Music Another one...  \n",
       "4  2021-08-03T03:29:39.523Z  Chorus: Maya Jane Coles You know, don't you? Y...  "
      ]
     },
     "execution_count": 6,
     "metadata": {},
     "output_type": "execute_result"
    }
   ],
   "source": [
    "music_df['lyrics'] = music_df.lyrics.apply(html_cleaner)\n",
    "music_df.head()"
   ]
  },
  {
   "cell_type": "markdown",
   "metadata": {},
   "source": [
    "### Tokenization"
   ]
  },
  {
   "cell_type": "code",
   "execution_count": 9,
   "metadata": {},
   "outputs": [
    {
     "name": "stderr",
     "output_type": "stream",
     "text": [
      "[nltk_data] Downloading package punkt to /Users/pierre-\n",
      "[nltk_data]     olivierboisvert/nltk_data...\n",
      "[nltk_data]   Package punkt is already up-to-date!\n"
     ]
    },
    {
     "data": {
      "text/plain": [
       "True"
      ]
     },
     "execution_count": 9,
     "metadata": {},
     "output_type": "execute_result"
    }
   ],
   "source": [
    "# Donwload tokenizer from NLTK\n",
    "nltk.download('punkt')"
   ]
  },
  {
   "cell_type": "code",
   "execution_count": 12,
   "metadata": {},
   "outputs": [],
   "source": [
    "def tokenizer (string):\n",
    "    tokenizer = RegexpTokenizer(r'\\w+')\n",
    "    tokens = tokenizer.tokenize(string)\n",
    "    return tokens"
   ]
  },
  {
   "cell_type": "code",
   "execution_count": 14,
   "metadata": {},
   "outputs": [
    {
     "data": {
      "text/html": [
       "<div>\n",
       "<style scoped>\n",
       "    .dataframe tbody tr th:only-of-type {\n",
       "        vertical-align: middle;\n",
       "    }\n",
       "\n",
       "    .dataframe tbody tr th {\n",
       "        vertical-align: top;\n",
       "    }\n",
       "\n",
       "    .dataframe thead th {\n",
       "        text-align: right;\n",
       "    }\n",
       "</style>\n",
       "<table border=\"1\" class=\"dataframe\">\n",
       "  <thead>\n",
       "    <tr style=\"text-align: right;\">\n",
       "      <th></th>\n",
       "      <th>Unnamed: 0</th>\n",
       "      <th>song_id</th>\n",
       "      <th>song_name</th>\n",
       "      <th>date_time_played</th>\n",
       "      <th>lyrics</th>\n",
       "    </tr>\n",
       "  </thead>\n",
       "  <tbody>\n",
       "    <tr>\n",
       "      <th>0</th>\n",
       "      <td>0</td>\n",
       "      <td>42YNobZ4HN3tRVEA47wLT6</td>\n",
       "      <td>When I'm Gone</td>\n",
       "      <td>2021-08-03T13:13:20.649Z</td>\n",
       "      <td>[Intro, Yeah, it, s, my, life, In, my, own, wo...</td>\n",
       "    </tr>\n",
       "    <tr>\n",
       "      <th>1</th>\n",
       "      <td>1</td>\n",
       "      <td>1jlnBQGP2DtSEhMgQaz7a7</td>\n",
       "      <td>Haute (feat. J Balvin &amp; Chris Brown)</td>\n",
       "      <td>2021-08-03T12:58:47.598Z</td>\n",
       "      <td>[Intro, Tyga, Make, it, hot, yeah, Make, it, h...</td>\n",
       "    </tr>\n",
       "    <tr>\n",
       "      <th>2</th>\n",
       "      <td>2</td>\n",
       "      <td>1PS1QMdUqOal0ai3Gt7sDQ</td>\n",
       "      <td>Gold Digger</td>\n",
       "      <td>2021-08-03T11:16:59.439Z</td>\n",
       "      <td>[Produced, by, Kanye, West, and, Jon, Brion, I...</td>\n",
       "    </tr>\n",
       "    <tr>\n",
       "      <th>3</th>\n",
       "      <td>3</td>\n",
       "      <td>35RJhm1pEovTBwnNR0zWad</td>\n",
       "      <td>GREECE (feat. Drake)</td>\n",
       "      <td>2021-08-03T03:33:19.241Z</td>\n",
       "      <td>[Intro, DJ, Khaled, We, The, Best, Music, Anot...</td>\n",
       "    </tr>\n",
       "    <tr>\n",
       "      <th>4</th>\n",
       "      <td>4</td>\n",
       "      <td>3keUgTGEoZJt0QkzTB6kHg</td>\n",
       "      <td>Truffle Butter</td>\n",
       "      <td>2021-08-03T03:29:39.523Z</td>\n",
       "      <td>[Chorus, Maya, Jane, Coles, You, know, don, t,...</td>\n",
       "    </tr>\n",
       "  </tbody>\n",
       "</table>\n",
       "</div>"
      ],
      "text/plain": [
       "   Unnamed: 0                 song_id                             song_name  \\\n",
       "0           0  42YNobZ4HN3tRVEA47wLT6                         When I'm Gone   \n",
       "1           1  1jlnBQGP2DtSEhMgQaz7a7  Haute (feat. J Balvin & Chris Brown)   \n",
       "2           2  1PS1QMdUqOal0ai3Gt7sDQ                           Gold Digger   \n",
       "3           3  35RJhm1pEovTBwnNR0zWad                  GREECE (feat. Drake)   \n",
       "4           4  3keUgTGEoZJt0QkzTB6kHg                        Truffle Butter   \n",
       "\n",
       "           date_time_played                                             lyrics  \n",
       "0  2021-08-03T13:13:20.649Z  [Intro, Yeah, it, s, my, life, In, my, own, wo...  \n",
       "1  2021-08-03T12:58:47.598Z  [Intro, Tyga, Make, it, hot, yeah, Make, it, h...  \n",
       "2  2021-08-03T11:16:59.439Z  [Produced, by, Kanye, West, and, Jon, Brion, I...  \n",
       "3  2021-08-03T03:33:19.241Z  [Intro, DJ, Khaled, We, The, Best, Music, Anot...  \n",
       "4  2021-08-03T03:29:39.523Z  [Chorus, Maya, Jane, Coles, You, know, don, t,...  "
      ]
     },
     "execution_count": 14,
     "metadata": {},
     "output_type": "execute_result"
    }
   ],
   "source": [
    "music_df['lyrics'] = music_df['lyrics'].apply(tokenizer)\n",
    "music_df.head()"
   ]
  },
  {
   "cell_type": "code",
   "execution_count": 16,
   "metadata": {},
   "outputs": [
    {
     "data": {
      "text/html": [
       "<div>\n",
       "<style scoped>\n",
       "    .dataframe tbody tr th:only-of-type {\n",
       "        vertical-align: middle;\n",
       "    }\n",
       "\n",
       "    .dataframe tbody tr th {\n",
       "        vertical-align: top;\n",
       "    }\n",
       "\n",
       "    .dataframe thead th {\n",
       "        text-align: right;\n",
       "    }\n",
       "</style>\n",
       "<table border=\"1\" class=\"dataframe\">\n",
       "  <thead>\n",
       "    <tr style=\"text-align: right;\">\n",
       "      <th></th>\n",
       "      <th>Unnamed: 0</th>\n",
       "      <th>song_id</th>\n",
       "      <th>song_name</th>\n",
       "      <th>date_time_played</th>\n",
       "      <th>lyrics</th>\n",
       "    </tr>\n",
       "  </thead>\n",
       "  <tbody>\n",
       "    <tr>\n",
       "      <th>0</th>\n",
       "      <td>0</td>\n",
       "      <td>42YNobZ4HN3tRVEA47wLT6</td>\n",
       "      <td>When I'm Gone</td>\n",
       "      <td>2021-08-03T13:13:20.649Z</td>\n",
       "      <td>Intro Yeah it s my life In my own words I gues...</td>\n",
       "    </tr>\n",
       "    <tr>\n",
       "      <th>1</th>\n",
       "      <td>1</td>\n",
       "      <td>1jlnBQGP2DtSEhMgQaz7a7</td>\n",
       "      <td>Haute (feat. J Balvin &amp; Chris Brown)</td>\n",
       "      <td>2021-08-03T12:58:47.598Z</td>\n",
       "      <td>Intro Tyga Make it hot yeah Make it hot Verse ...</td>\n",
       "    </tr>\n",
       "    <tr>\n",
       "      <th>2</th>\n",
       "      <td>2</td>\n",
       "      <td>1PS1QMdUqOal0ai3Gt7sDQ</td>\n",
       "      <td>Gold Digger</td>\n",
       "      <td>2021-08-03T11:16:59.439Z</td>\n",
       "      <td>Produced by Kanye West and Jon Brion Intro Jam...</td>\n",
       "    </tr>\n",
       "    <tr>\n",
       "      <th>3</th>\n",
       "      <td>3</td>\n",
       "      <td>35RJhm1pEovTBwnNR0zWad</td>\n",
       "      <td>GREECE (feat. Drake)</td>\n",
       "      <td>2021-08-03T03:33:19.241Z</td>\n",
       "      <td>Intro DJ Khaled We The Best Music Another one ...</td>\n",
       "    </tr>\n",
       "    <tr>\n",
       "      <th>4</th>\n",
       "      <td>4</td>\n",
       "      <td>3keUgTGEoZJt0QkzTB6kHg</td>\n",
       "      <td>Truffle Butter</td>\n",
       "      <td>2021-08-03T03:29:39.523Z</td>\n",
       "      <td>Chorus Maya Jane Coles You know don t you Yeah...</td>\n",
       "    </tr>\n",
       "  </tbody>\n",
       "</table>\n",
       "</div>"
      ],
      "text/plain": [
       "   Unnamed: 0                 song_id                             song_name  \\\n",
       "0           0  42YNobZ4HN3tRVEA47wLT6                         When I'm Gone   \n",
       "1           1  1jlnBQGP2DtSEhMgQaz7a7  Haute (feat. J Balvin & Chris Brown)   \n",
       "2           2  1PS1QMdUqOal0ai3Gt7sDQ                           Gold Digger   \n",
       "3           3  35RJhm1pEovTBwnNR0zWad                  GREECE (feat. Drake)   \n",
       "4           4  3keUgTGEoZJt0QkzTB6kHg                        Truffle Butter   \n",
       "\n",
       "           date_time_played                                             lyrics  \n",
       "0  2021-08-03T13:13:20.649Z  Intro Yeah it s my life In my own words I gues...  \n",
       "1  2021-08-03T12:58:47.598Z  Intro Tyga Make it hot yeah Make it hot Verse ...  \n",
       "2  2021-08-03T11:16:59.439Z  Produced by Kanye West and Jon Brion Intro Jam...  \n",
       "3  2021-08-03T03:33:19.241Z  Intro DJ Khaled We The Best Music Another one ...  \n",
       "4  2021-08-03T03:29:39.523Z  Chorus Maya Jane Coles You know don t you Yeah...  "
      ]
     },
     "execution_count": 16,
     "metadata": {},
     "output_type": "execute_result"
    }
   ],
   "source": [
    "# Remove comma\n",
    "music_df['lyrics'] = music_df['lyrics'].apply(lambda x: \" \".join(x))\n",
    "music_df.head()"
   ]
  },
  {
   "cell_type": "markdown",
   "metadata": {},
   "source": [
    "### Stop Words"
   ]
  },
  {
   "cell_type": "code",
   "execution_count": 17,
   "metadata": {},
   "outputs": [
    {
     "name": "stderr",
     "output_type": "stream",
     "text": [
      "[nltk_data] Downloading package stopwords to /Users/pierre-\n",
      "[nltk_data]     olivierboisvert/nltk_data...\n",
      "[nltk_data]   Package stopwords is already up-to-date!\n"
     ]
    },
    {
     "data": {
      "text/plain": [
       "True"
      ]
     },
     "execution_count": 17,
     "metadata": {},
     "output_type": "execute_result"
    }
   ],
   "source": [
    "nltk.download('stopwords') #stopwords"
   ]
  },
  {
   "cell_type": "code",
   "execution_count": 19,
   "metadata": {},
   "outputs": [
    {
     "name": "stdout",
     "output_type": "stream",
     "text": [
      "{'shouldn', 'll', \"shan't\", 'i', 'during', 'is', 'about', \"haven't\", 'was', 'wouldn', 'them', \"isn't\", 'ours', \"weren't\", 'mustn', 'as', 'me', 'were', 'd', 'you', 'am', 'nor', 'not', 'haven', \"don't\", 'it', 'hasn', 'while', 'if', 'and', \"doesn't\", 'what', 'such', 'hers', 'ourselves', 'its', 'did', 'yourself', 'on', 'both', 'too', 'her', \"she's\", 'we', 'up', \"shouldn't\", 'there', \"that'll\", 'yourselves', \"you'll\", \"hadn't\", 'herself', 'few', 'where', 'my', 'him', 'are', 'myself', \"you've\", 'having', 'wasn', 'some', 'theirs', 'at', \"mustn't\", 'needn', 'but', 'should', 'couldn', 'then', \"needn't\", 'most', 'doing', 'only', \"won't\", 'again', 'm', 'out', \"mightn't\", 'yours', 't', \"hasn't\", 'that', 'now', 'or', 'shan', 'to', 'those', 'each', 'mightn', \"you'd\", 'being', 'will', 'under', 'against', 'with', 'more', 'no', \"wouldn't\", 'doesn', 'how', 's', 'does', 'have', 'other', 'these', 'his', 'own', 've', 'weren', 'over', 'has', 'she', 'themselves', 'for', 'the', 'than', 'down', 'our', 'ma', 'your', 'between', 'itself', 'in', \"you're\", 'himself', 'because', \"it's\", 'been', 'don', \"wasn't\", \"didn't\", 'any', 'do', \"couldn't\", 'y', 'very', 'into', 'be', 'their', 'won', 'so', 'ain', 'isn', 'by', 'when', 'through', 'hadn', 'after', 'had', 'of', 'whom', 'just', 'above', 'can', 'o', 'here', 'didn', 're', 'further', 'from', 'all', 'who', \"aren't\", 'aren', 'which', 'below', 'why', 'once', 'off', 'before', 'a', 'he', 'this', \"should've\", 'they', 'until', 'an', 'same'}\n"
     ]
    }
   ],
   "source": [
    "stop_words = set(stopwords.words('english'))\n",
    "print(stop_words)"
   ]
  },
  {
   "cell_type": "code",
   "execution_count": 20,
   "metadata": {},
   "outputs": [],
   "source": [
    "music_df.lyrics = music_df.lyrics.apply(lambda x: x.split(\" \"))"
   ]
  },
  {
   "cell_type": "code",
   "execution_count": 21,
   "metadata": {},
   "outputs": [],
   "source": [
    "def stop_words (data):\n",
    "    stop_words = set(stopwords.words('english'))\n",
    "    stop_words_list = []\n",
    "    for string in data:\n",
    "        if string not in stop_words:\n",
    "            stop_words_list.append(string)\n",
    "    return \" \".join(stop_words_list)"
   ]
  },
  {
   "cell_type": "code",
   "execution_count": 22,
   "metadata": {},
   "outputs": [
    {
     "data": {
      "text/html": [
       "<div>\n",
       "<style scoped>\n",
       "    .dataframe tbody tr th:only-of-type {\n",
       "        vertical-align: middle;\n",
       "    }\n",
       "\n",
       "    .dataframe tbody tr th {\n",
       "        vertical-align: top;\n",
       "    }\n",
       "\n",
       "    .dataframe thead th {\n",
       "        text-align: right;\n",
       "    }\n",
       "</style>\n",
       "<table border=\"1\" class=\"dataframe\">\n",
       "  <thead>\n",
       "    <tr style=\"text-align: right;\">\n",
       "      <th></th>\n",
       "      <th>Unnamed: 0</th>\n",
       "      <th>song_id</th>\n",
       "      <th>song_name</th>\n",
       "      <th>date_time_played</th>\n",
       "      <th>lyrics</th>\n",
       "    </tr>\n",
       "  </thead>\n",
       "  <tbody>\n",
       "    <tr>\n",
       "      <th>0</th>\n",
       "      <td>0</td>\n",
       "      <td>42YNobZ4HN3tRVEA47wLT6</td>\n",
       "      <td>When I'm Gone</td>\n",
       "      <td>2021-08-03T13:13:20.649Z</td>\n",
       "      <td>Intro Yeah life In words I guess Verse 1 Have ...</td>\n",
       "    </tr>\n",
       "    <tr>\n",
       "      <th>1</th>\n",
       "      <td>1</td>\n",
       "      <td>1jlnBQGP2DtSEhMgQaz7a7</td>\n",
       "      <td>Haute (feat. J Balvin &amp; Chris Brown)</td>\n",
       "      <td>2021-08-03T12:58:47.598Z</td>\n",
       "      <td>Intro Tyga Make hot yeah Make hot Verse 1 Tyga...</td>\n",
       "    </tr>\n",
       "    <tr>\n",
       "      <th>2</th>\n",
       "      <td>2</td>\n",
       "      <td>1PS1QMdUqOal0ai3Gt7sDQ</td>\n",
       "      <td>Gold Digger</td>\n",
       "      <td>2021-08-03T11:16:59.439Z</td>\n",
       "      <td>Produced Kanye West Jon Brion Intro Jamie Foxx...</td>\n",
       "    </tr>\n",
       "    <tr>\n",
       "      <th>3</th>\n",
       "      <td>3</td>\n",
       "      <td>35RJhm1pEovTBwnNR0zWad</td>\n",
       "      <td>GREECE (feat. Drake)</td>\n",
       "      <td>2021-08-03T03:33:19.241Z</td>\n",
       "      <td>Intro DJ Khaled We The Best Music Another one ...</td>\n",
       "    </tr>\n",
       "    <tr>\n",
       "      <th>4</th>\n",
       "      <td>4</td>\n",
       "      <td>3keUgTGEoZJt0QkzTB6kHg</td>\n",
       "      <td>Truffle Butter</td>\n",
       "      <td>2021-08-03T03:29:39.523Z</td>\n",
       "      <td>Chorus Maya Jane Coles You know Yeah Night You...</td>\n",
       "    </tr>\n",
       "  </tbody>\n",
       "</table>\n",
       "</div>"
      ],
      "text/plain": [
       "   Unnamed: 0                 song_id                             song_name  \\\n",
       "0           0  42YNobZ4HN3tRVEA47wLT6                         When I'm Gone   \n",
       "1           1  1jlnBQGP2DtSEhMgQaz7a7  Haute (feat. J Balvin & Chris Brown)   \n",
       "2           2  1PS1QMdUqOal0ai3Gt7sDQ                           Gold Digger   \n",
       "3           3  35RJhm1pEovTBwnNR0zWad                  GREECE (feat. Drake)   \n",
       "4           4  3keUgTGEoZJt0QkzTB6kHg                        Truffle Butter   \n",
       "\n",
       "           date_time_played                                             lyrics  \n",
       "0  2021-08-03T13:13:20.649Z  Intro Yeah life In words I guess Verse 1 Have ...  \n",
       "1  2021-08-03T12:58:47.598Z  Intro Tyga Make hot yeah Make hot Verse 1 Tyga...  \n",
       "2  2021-08-03T11:16:59.439Z  Produced Kanye West Jon Brion Intro Jamie Foxx...  \n",
       "3  2021-08-03T03:33:19.241Z  Intro DJ Khaled We The Best Music Another one ...  \n",
       "4  2021-08-03T03:29:39.523Z  Chorus Maya Jane Coles You know Yeah Night You...  "
      ]
     },
     "execution_count": 22,
     "metadata": {},
     "output_type": "execute_result"
    }
   ],
   "source": [
    "music_df.lyrics = music_df.lyrics.apply(stop_words)\n",
    "music_df.head()"
   ]
  },
  {
   "cell_type": "markdown",
   "metadata": {},
   "source": [
    "### Sentiment Analysis"
   ]
  },
  {
   "cell_type": "code",
   "execution_count": 25,
   "metadata": {},
   "outputs": [
    {
     "data": {
      "text/plain": [
       "Sentiment(polarity=0.5, subjectivity=0.6)"
      ]
     },
     "execution_count": 25,
     "metadata": {},
     "output_type": "execute_result"
    }
   ],
   "source": [
    "my_test = \"I love my wife\"\n",
    "blob = TextBlob(my_test)\n",
    "blob.sentiment"
   ]
  },
  {
   "cell_type": "code",
   "execution_count": 28,
   "metadata": {},
   "outputs": [
    {
     "name": "stderr",
     "output_type": "stream",
     "text": [
      "[nltk_data] Downloading package vader_lexicon to /Users/pierre-\n",
      "[nltk_data]     olivierboisvert/nltk_data...\n"
     ]
    },
    {
     "data": {
      "text/plain": [
       "True"
      ]
     },
     "execution_count": 28,
     "metadata": {},
     "output_type": "execute_result"
    }
   ],
   "source": [
    "nltk.download('vader_lexicon')"
   ]
  },
  {
   "cell_type": "code",
   "execution_count": 29,
   "metadata": {},
   "outputs": [
    {
     "data": {
      "text/plain": [
       "{'neg': 0.0, 'neu': 0.323, 'pos': 0.677, 'compound': 0.6369}"
      ]
     },
     "execution_count": 29,
     "metadata": {},
     "output_type": "execute_result"
    }
   ],
   "source": [
    "intAnalyser = SentimentIntensityAnalyzer()\n",
    "polarity = intAnalyser.polarity_scores(my_test)\n",
    "polarity"
   ]
  },
  {
   "cell_type": "code",
   "execution_count": 30,
   "metadata": {},
   "outputs": [],
   "source": [
    "def sentimentScore(sentence):\n",
    "    sia = SentimentIntensityAnalyzer()\n",
    "    polarity = sia.polarity_scores(sentence)\n",
    "    pol = polarity['compound']\n",
    "    return pol"
   ]
  },
  {
   "cell_type": "code",
   "execution_count": 32,
   "metadata": {},
   "outputs": [
    {
     "data": {
      "text/html": [
       "<div>\n",
       "<style scoped>\n",
       "    .dataframe tbody tr th:only-of-type {\n",
       "        vertical-align: middle;\n",
       "    }\n",
       "\n",
       "    .dataframe tbody tr th {\n",
       "        vertical-align: top;\n",
       "    }\n",
       "\n",
       "    .dataframe thead th {\n",
       "        text-align: right;\n",
       "    }\n",
       "</style>\n",
       "<table border=\"1\" class=\"dataframe\">\n",
       "  <thead>\n",
       "    <tr style=\"text-align: right;\">\n",
       "      <th></th>\n",
       "      <th>Unnamed: 0</th>\n",
       "      <th>song_id</th>\n",
       "      <th>song_name</th>\n",
       "      <th>date_time_played</th>\n",
       "      <th>lyrics</th>\n",
       "      <th>sentiment_compound</th>\n",
       "    </tr>\n",
       "  </thead>\n",
       "  <tbody>\n",
       "    <tr>\n",
       "      <th>0</th>\n",
       "      <td>0</td>\n",
       "      <td>42YNobZ4HN3tRVEA47wLT6</td>\n",
       "      <td>When I'm Gone</td>\n",
       "      <td>2021-08-03T13:13:20.649Z</td>\n",
       "      <td>Intro Yeah life In words I guess Verse 1 Have ...</td>\n",
       "      <td>0.6369</td>\n",
       "    </tr>\n",
       "    <tr>\n",
       "      <th>1</th>\n",
       "      <td>1</td>\n",
       "      <td>1jlnBQGP2DtSEhMgQaz7a7</td>\n",
       "      <td>Haute (feat. J Balvin &amp; Chris Brown)</td>\n",
       "      <td>2021-08-03T12:58:47.598Z</td>\n",
       "      <td>Intro Tyga Make hot yeah Make hot Verse 1 Tyga...</td>\n",
       "      <td>0.9169</td>\n",
       "    </tr>\n",
       "    <tr>\n",
       "      <th>2</th>\n",
       "      <td>2</td>\n",
       "      <td>1PS1QMdUqOal0ai3Gt7sDQ</td>\n",
       "      <td>Gold Digger</td>\n",
       "      <td>2021-08-03T11:16:59.439Z</td>\n",
       "      <td>Produced Kanye West Jon Brion Intro Jamie Foxx...</td>\n",
       "      <td>-0.4530</td>\n",
       "    </tr>\n",
       "    <tr>\n",
       "      <th>3</th>\n",
       "      <td>3</td>\n",
       "      <td>35RJhm1pEovTBwnNR0zWad</td>\n",
       "      <td>GREECE (feat. Drake)</td>\n",
       "      <td>2021-08-03T03:33:19.241Z</td>\n",
       "      <td>Intro DJ Khaled We The Best Music Another one ...</td>\n",
       "      <td>0.9809</td>\n",
       "    </tr>\n",
       "    <tr>\n",
       "      <th>4</th>\n",
       "      <td>4</td>\n",
       "      <td>3keUgTGEoZJt0QkzTB6kHg</td>\n",
       "      <td>Truffle Butter</td>\n",
       "      <td>2021-08-03T03:29:39.523Z</td>\n",
       "      <td>Chorus Maya Jane Coles You know Yeah Night You...</td>\n",
       "      <td>0.9824</td>\n",
       "    </tr>\n",
       "  </tbody>\n",
       "</table>\n",
       "</div>"
      ],
      "text/plain": [
       "   Unnamed: 0                 song_id                             song_name  \\\n",
       "0           0  42YNobZ4HN3tRVEA47wLT6                         When I'm Gone   \n",
       "1           1  1jlnBQGP2DtSEhMgQaz7a7  Haute (feat. J Balvin & Chris Brown)   \n",
       "2           2  1PS1QMdUqOal0ai3Gt7sDQ                           Gold Digger   \n",
       "3           3  35RJhm1pEovTBwnNR0zWad                  GREECE (feat. Drake)   \n",
       "4           4  3keUgTGEoZJt0QkzTB6kHg                        Truffle Butter   \n",
       "\n",
       "           date_time_played  \\\n",
       "0  2021-08-03T13:13:20.649Z   \n",
       "1  2021-08-03T12:58:47.598Z   \n",
       "2  2021-08-03T11:16:59.439Z   \n",
       "3  2021-08-03T03:33:19.241Z   \n",
       "4  2021-08-03T03:29:39.523Z   \n",
       "\n",
       "                                              lyrics  sentiment_compound  \n",
       "0  Intro Yeah life In words I guess Verse 1 Have ...              0.6369  \n",
       "1  Intro Tyga Make hot yeah Make hot Verse 1 Tyga...              0.9169  \n",
       "2  Produced Kanye West Jon Brion Intro Jamie Foxx...             -0.4530  \n",
       "3  Intro DJ Khaled We The Best Music Another one ...              0.9809  \n",
       "4  Chorus Maya Jane Coles You know Yeah Night You...              0.9824  "
      ]
     },
     "execution_count": 32,
     "metadata": {},
     "output_type": "execute_result"
    }
   ],
   "source": [
    "music_df['sentiment_compound'] = music_df.lyrics.apply(sentimentScore)\n",
    "music_df.head()"
   ]
  },
  {
   "cell_type": "markdown",
   "metadata": {},
   "source": [
    "### Visualization"
   ]
  },
  {
   "cell_type": "code",
   "execution_count": 34,
   "metadata": {},
   "outputs": [
    {
     "data": {
      "text/plain": [
       "Gold Digger                              1\n",
       "Dem Jeans                                1\n",
       "Cotton Fields - Radio Mix                1\n",
       "The Ride                                 1\n",
       "GREECE (feat. Drake)                     1\n",
       "Muerte                                   1\n",
       "Eclipse                                  1\n",
       "I'm Still Here - Winnie & Somow Remix    1\n",
       "When I'm Gone                            1\n",
       "Ass Drop                                 1\n",
       "Truffle Butter                           1\n",
       "Rave                                     1\n",
       "Money Mouf                               1\n",
       "The Hills                                1\n",
       "Shakti Pan                               1\n",
       "The Thrill                               1\n",
       "Licht & Farben                           1\n",
       "Soma                                     1\n",
       "Krambambuli                              1\n",
       "Mob Ties                                 1\n",
       "Quarantine - Original                    1\n",
       "Alone (feat. FEMME)                      1\n",
       "Haute (feat. J Balvin & Chris Brown)     1\n",
       "Kackvogel - Original Mix                 1\n",
       "Punxsutawney                             1\n",
       "Name: song_name, dtype: int64"
      ]
     },
     "execution_count": 34,
     "metadata": {},
     "output_type": "execute_result"
    }
   ],
   "source": [
    "music_df.song_name.value_counts()"
   ]
  },
  {
   "cell_type": "code",
   "execution_count": 37,
   "metadata": {},
   "outputs": [
    {
     "data": {
      "text/plain": [
       "song_name\n",
       "Mob Ties                                -0.9993\n",
       "Ass Drop                                -0.9980\n",
       "Money Mouf                              -0.9898\n",
       "The Hills                               -0.9792\n",
       "Dem Jeans                               -0.9674\n",
       "Gold Digger                             -0.4530\n",
       "Soma                                    -0.3818\n",
       "Alone (feat. FEMME)                     -0.2500\n",
       "I'm Still Here - Winnie & Somow Remix    0.0000\n",
       "Kackvogel - Original Mix                 0.0000\n",
       "Krambambuli                              0.0000\n",
       "Licht & Farben                           0.0000\n",
       "The Ride                                 0.0000\n",
       "Cotton Fields - Radio Mix                0.0000\n",
       "Muerte                                   0.0000\n",
       "Punxsutawney                             0.0000\n",
       "Eclipse                                  0.0000\n",
       "Rave                                     0.0000\n",
       "Shakti Pan                               0.0000\n",
       "Quarantine - Original                    0.3182\n",
       "The Thrill                               0.3612\n",
       "When I'm Gone                            0.6369\n",
       "Haute (feat. J Balvin & Chris Brown)     0.9169\n",
       "GREECE (feat. Drake)                     0.9809\n",
       "Truffle Butter                           0.9824\n",
       "Name: sentiment_compound, dtype: float64"
      ]
     },
     "execution_count": 37,
     "metadata": {},
     "output_type": "execute_result"
    }
   ],
   "source": [
    "music_sent = music_df.groupby(['song_name'])['sentiment_compound'].mean().sort_values()\n",
    "music_sent"
   ]
  },
  {
   "cell_type": "code",
   "execution_count": 38,
   "metadata": {},
   "outputs": [
    {
     "data": {
      "text/plain": [
       "<AxesSubplot:xlabel='song_name'>"
      ]
     },
     "execution_count": 38,
     "metadata": {},
     "output_type": "execute_result"
    },
    {
     "data": {
      "image/png": "[encoded data removed]",
      "text/plain": [
       "<Figure size 432x288 with 1 Axes>"
      ]
     },
     "metadata": {
      "needs_background": "light"
     },
     "output_type": "display_data"
    }
   ],
   "source": [
    "music_sent.plot(kind=\"bar\")"
   ]
  },
  {
   "cell_type": "code",
   "execution_count": null,
   "metadata": {},
   "outputs": [],
   "source": []
  }
 ],
 "metadata": {
  "kernelspec": {
   "display_name": "mlenv",
   "language": "python",
   "name": "mlenv"
  },
  "language_info": {
   "codemirror_mode": {
    "name": "ipython",
    "version": 3
   },
   "file_extension": ".py",
   "mimetype": "text/x-python",
   "name": "python",
   "nbconvert_exporter": "python",
   "pygments_lexer": "ipython3",
   "version": "3.7.9"
  }
 },
 "nbformat": 4,
 "nbformat_minor": 4
}
